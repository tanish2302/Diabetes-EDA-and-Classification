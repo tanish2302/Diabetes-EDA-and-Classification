{
  "cells": [
    {
      "cell_type": "code",
      "execution_count": 22,
      "metadata": {
        "id": "x9hm9q_Xm7E8"
      },
      "outputs": [],
      "source": [
        "import pandas as pd\n",
        "import numpy as np\n",
        "import matplotlib.pyplot as plt\n",
        "import plotly.express as px\n",
        "import scipy.stats as stats\n",
        "import seaborn as sns\n",
        "pd.options.mode.chained_assignment = None  # default='warn'"
      ]
    },
    {
      "cell_type": "markdown",
      "metadata": {
        "id": "gFcUcmb1njiP"
      },
      "source": [
        "##pre - processing and EDA"
      ]
    },
    {
      "cell_type": "code",
      "execution_count": 23,
      "metadata": {
        "colab": {
          "base_uri": "https://localhost:8080/",
          "height": 206
        },
        "id": "Ozj_LUPmnD5z",
        "outputId": "e4d77037-703c-4c44-d539-cdd1fd59a40f"
      },
      "outputs": [
        {
          "data": {
            "text/html": [
              "<div>\n",
              "<style scoped>\n",
              "    .dataframe tbody tr th:only-of-type {\n",
              "        vertical-align: middle;\n",
              "    }\n",
              "\n",
              "    .dataframe tbody tr th {\n",
              "        vertical-align: top;\n",
              "    }\n",
              "\n",
              "    .dataframe thead th {\n",
              "        text-align: right;\n",
              "    }\n",
              "</style>\n",
              "<table border=\"1\" class=\"dataframe\">\n",
              "  <thead>\n",
              "    <tr style=\"text-align: right;\">\n",
              "      <th></th>\n",
              "      <th>Pregnancies</th>\n",
              "      <th>Glucose</th>\n",
              "      <th>BloodPressure</th>\n",
              "      <th>SkinThickness</th>\n",
              "      <th>Insulin</th>\n",
              "      <th>BMI</th>\n",
              "      <th>DiabetesPedigreeFunction</th>\n",
              "      <th>Age</th>\n",
              "      <th>Outcome</th>\n",
              "    </tr>\n",
              "  </thead>\n",
              "  <tbody>\n",
              "    <tr>\n",
              "      <th>0</th>\n",
              "      <td>6</td>\n",
              "      <td>148</td>\n",
              "      <td>72</td>\n",
              "      <td>35</td>\n",
              "      <td>0</td>\n",
              "      <td>33.6</td>\n",
              "      <td>0.627</td>\n",
              "      <td>50</td>\n",
              "      <td>1</td>\n",
              "    </tr>\n",
              "    <tr>\n",
              "      <th>1</th>\n",
              "      <td>1</td>\n",
              "      <td>85</td>\n",
              "      <td>66</td>\n",
              "      <td>29</td>\n",
              "      <td>0</td>\n",
              "      <td>26.6</td>\n",
              "      <td>0.351</td>\n",
              "      <td>31</td>\n",
              "      <td>0</td>\n",
              "    </tr>\n",
              "    <tr>\n",
              "      <th>2</th>\n",
              "      <td>8</td>\n",
              "      <td>183</td>\n",
              "      <td>64</td>\n",
              "      <td>0</td>\n",
              "      <td>0</td>\n",
              "      <td>23.3</td>\n",
              "      <td>0.672</td>\n",
              "      <td>32</td>\n",
              "      <td>1</td>\n",
              "    </tr>\n",
              "    <tr>\n",
              "      <th>3</th>\n",
              "      <td>1</td>\n",
              "      <td>89</td>\n",
              "      <td>66</td>\n",
              "      <td>23</td>\n",
              "      <td>94</td>\n",
              "      <td>28.1</td>\n",
              "      <td>0.167</td>\n",
              "      <td>21</td>\n",
              "      <td>0</td>\n",
              "    </tr>\n",
              "    <tr>\n",
              "      <th>4</th>\n",
              "      <td>0</td>\n",
              "      <td>137</td>\n",
              "      <td>40</td>\n",
              "      <td>35</td>\n",
              "      <td>168</td>\n",
              "      <td>43.1</td>\n",
              "      <td>2.288</td>\n",
              "      <td>33</td>\n",
              "      <td>1</td>\n",
              "    </tr>\n",
              "  </tbody>\n",
              "</table>\n",
              "</div>"
            ],
            "text/plain": [
              "   Pregnancies  Glucose  BloodPressure  SkinThickness  Insulin   BMI  \\\n",
              "0            6      148             72             35        0  33.6   \n",
              "1            1       85             66             29        0  26.6   \n",
              "2            8      183             64              0        0  23.3   \n",
              "3            1       89             66             23       94  28.1   \n",
              "4            0      137             40             35      168  43.1   \n",
              "\n",
              "   DiabetesPedigreeFunction  Age  Outcome  \n",
              "0                     0.627   50        1  \n",
              "1                     0.351   31        0  \n",
              "2                     0.672   32        1  \n",
              "3                     0.167   21        0  \n",
              "4                     2.288   33        1  "
            ]
          },
          "execution_count": 23,
          "metadata": {},
          "output_type": "execute_result"
        }
      ],
      "source": [
        "df = pd.read_csv(\"diabetes.csv\")\n",
        "df.head()"
      ]
    },
    {
      "cell_type": "code",
      "execution_count": 24,
      "metadata": {
        "colab": {
          "base_uri": "https://localhost:8080/",
          "height": 366
        },
        "id": "5rtaselPmlzQ",
        "outputId": "4251fafb-cce5-4393-afe3-00df2df807b8"
      },
      "outputs": [
        {
          "data": {
            "text/plain": [
              "Pregnancies                 111\n",
              "Glucose                       5\n",
              "BloodPressure                35\n",
              "SkinThickness               227\n",
              "Insulin                     374\n",
              "BMI                          11\n",
              "DiabetesPedigreeFunction      0\n",
              "Age                           0\n",
              "Outcome                     500\n",
              "dtype: int64"
            ]
          },
          "execution_count": 24,
          "metadata": {},
          "output_type": "execute_result"
        }
      ],
      "source": [
        "(df == 0).sum()"
      ]
    },
    {
      "cell_type": "code",
      "execution_count": 25,
      "metadata": {
        "colab": {
          "base_uri": "https://localhost:8080/",
          "height": 206
        },
        "id": "p-44iGlij8dR",
        "outputId": "a6f887a5-b18c-4e1f-f9e4-ecaa04f10a88"
      },
      "outputs": [
        {
          "data": {
            "text/html": [
              "<div>\n",
              "<style scoped>\n",
              "    .dataframe tbody tr th:only-of-type {\n",
              "        vertical-align: middle;\n",
              "    }\n",
              "\n",
              "    .dataframe tbody tr th {\n",
              "        vertical-align: top;\n",
              "    }\n",
              "\n",
              "    .dataframe thead th {\n",
              "        text-align: right;\n",
              "    }\n",
              "</style>\n",
              "<table border=\"1\" class=\"dataframe\">\n",
              "  <thead>\n",
              "    <tr style=\"text-align: right;\">\n",
              "      <th></th>\n",
              "      <th>Pregnancies</th>\n",
              "      <th>Glucose</th>\n",
              "      <th>BloodPressure</th>\n",
              "      <th>SkinThickness</th>\n",
              "      <th>Insulin</th>\n",
              "      <th>BMI</th>\n",
              "      <th>DiabetesPedigreeFunction</th>\n",
              "      <th>Age</th>\n",
              "      <th>Outcome</th>\n",
              "    </tr>\n",
              "  </thead>\n",
              "  <tbody>\n",
              "    <tr>\n",
              "      <th>16</th>\n",
              "      <td>0</td>\n",
              "      <td>118</td>\n",
              "      <td>84</td>\n",
              "      <td>47</td>\n",
              "      <td>230</td>\n",
              "      <td>45.8</td>\n",
              "      <td>0.551</td>\n",
              "      <td>31</td>\n",
              "      <td>1</td>\n",
              "    </tr>\n",
              "    <tr>\n",
              "      <th>17</th>\n",
              "      <td>7</td>\n",
              "      <td>107</td>\n",
              "      <td>74</td>\n",
              "      <td>0</td>\n",
              "      <td>0</td>\n",
              "      <td>29.6</td>\n",
              "      <td>0.254</td>\n",
              "      <td>31</td>\n",
              "      <td>1</td>\n",
              "    </tr>\n",
              "    <tr>\n",
              "      <th>19</th>\n",
              "      <td>1</td>\n",
              "      <td>115</td>\n",
              "      <td>70</td>\n",
              "      <td>30</td>\n",
              "      <td>96</td>\n",
              "      <td>34.6</td>\n",
              "      <td>0.529</td>\n",
              "      <td>32</td>\n",
              "      <td>1</td>\n",
              "    </tr>\n",
              "    <tr>\n",
              "      <th>22</th>\n",
              "      <td>7</td>\n",
              "      <td>196</td>\n",
              "      <td>90</td>\n",
              "      <td>0</td>\n",
              "      <td>0</td>\n",
              "      <td>39.8</td>\n",
              "      <td>0.451</td>\n",
              "      <td>41</td>\n",
              "      <td>1</td>\n",
              "    </tr>\n",
              "    <tr>\n",
              "      <th>23</th>\n",
              "      <td>9</td>\n",
              "      <td>119</td>\n",
              "      <td>80</td>\n",
              "      <td>35</td>\n",
              "      <td>0</td>\n",
              "      <td>29.0</td>\n",
              "      <td>0.263</td>\n",
              "      <td>29</td>\n",
              "      <td>1</td>\n",
              "    </tr>\n",
              "  </tbody>\n",
              "</table>\n",
              "</div>"
            ],
            "text/plain": [
              "    Pregnancies  Glucose  BloodPressure  SkinThickness  Insulin   BMI  \\\n",
              "16            0      118             84             47      230  45.8   \n",
              "17            7      107             74              0        0  29.6   \n",
              "19            1      115             70             30       96  34.6   \n",
              "22            7      196             90              0        0  39.8   \n",
              "23            9      119             80             35        0  29.0   \n",
              "\n",
              "    DiabetesPedigreeFunction  Age  Outcome  \n",
              "16                     0.551   31        1  \n",
              "17                     0.254   31        1  \n",
              "19                     0.529   32        1  \n",
              "22                     0.451   41        1  \n",
              "23                     0.263   29        1  "
            ]
          },
          "execution_count": 25,
          "metadata": {},
          "output_type": "execute_result"
        }
      ],
      "source": [
        "#sorting according to outcome\n",
        "df = df.sort_values('Outcome')\n",
        "df.head()\n",
        "#seperating 0 and 1 values, so that i can handle 0 values of them seperatley\n",
        "grouped = df.groupby(df.Outcome)\n",
        "dfzero = grouped.get_group(0)\n",
        "dfone =grouped.get_group(1)\n",
        "dfone.head()"
      ]
    },
    {
      "cell_type": "code",
      "execution_count": 26,
      "metadata": {
        "colab": {
          "base_uri": "https://localhost:8080/",
          "height": 206
        },
        "id": "lNiEpSSaqYDW",
        "outputId": "86e64fcd-8177-4764-af84-b2e3daf8c42e"
      },
      "outputs": [
        {
          "data": {
            "text/html": [
              "<div>\n",
              "<style scoped>\n",
              "    .dataframe tbody tr th:only-of-type {\n",
              "        vertical-align: middle;\n",
              "    }\n",
              "\n",
              "    .dataframe tbody tr th {\n",
              "        vertical-align: top;\n",
              "    }\n",
              "\n",
              "    .dataframe thead th {\n",
              "        text-align: right;\n",
              "    }\n",
              "</style>\n",
              "<table border=\"1\" class=\"dataframe\">\n",
              "  <thead>\n",
              "    <tr style=\"text-align: right;\">\n",
              "      <th></th>\n",
              "      <th>Pregnancies</th>\n",
              "      <th>Glucose</th>\n",
              "      <th>BloodPressure</th>\n",
              "      <th>SkinThickness</th>\n",
              "      <th>Insulin</th>\n",
              "      <th>BMI</th>\n",
              "      <th>DiabetesPedigreeFunction</th>\n",
              "      <th>Age</th>\n",
              "      <th>Outcome</th>\n",
              "    </tr>\n",
              "  </thead>\n",
              "  <tbody>\n",
              "    <tr>\n",
              "      <th>28</th>\n",
              "      <td>13</td>\n",
              "      <td>145</td>\n",
              "      <td>82</td>\n",
              "      <td>19</td>\n",
              "      <td>110.000</td>\n",
              "      <td>22.2</td>\n",
              "      <td>0.245</td>\n",
              "      <td>57</td>\n",
              "      <td>0</td>\n",
              "    </tr>\n",
              "    <tr>\n",
              "      <th>29</th>\n",
              "      <td>5</td>\n",
              "      <td>117</td>\n",
              "      <td>92</td>\n",
              "      <td>21</td>\n",
              "      <td>68.792</td>\n",
              "      <td>34.1</td>\n",
              "      <td>0.337</td>\n",
              "      <td>38</td>\n",
              "      <td>0</td>\n",
              "    </tr>\n",
              "    <tr>\n",
              "      <th>30</th>\n",
              "      <td>5</td>\n",
              "      <td>109</td>\n",
              "      <td>75</td>\n",
              "      <td>26</td>\n",
              "      <td>68.792</td>\n",
              "      <td>36.0</td>\n",
              "      <td>0.546</td>\n",
              "      <td>60</td>\n",
              "      <td>0</td>\n",
              "    </tr>\n",
              "    <tr>\n",
              "      <th>752</th>\n",
              "      <td>3</td>\n",
              "      <td>108</td>\n",
              "      <td>62</td>\n",
              "      <td>24</td>\n",
              "      <td>68.792</td>\n",
              "      <td>26.0</td>\n",
              "      <td>0.223</td>\n",
              "      <td>25</td>\n",
              "      <td>0</td>\n",
              "    </tr>\n",
              "    <tr>\n",
              "      <th>756</th>\n",
              "      <td>7</td>\n",
              "      <td>137</td>\n",
              "      <td>90</td>\n",
              "      <td>41</td>\n",
              "      <td>68.792</td>\n",
              "      <td>32.0</td>\n",
              "      <td>0.391</td>\n",
              "      <td>39</td>\n",
              "      <td>0</td>\n",
              "    </tr>\n",
              "  </tbody>\n",
              "</table>\n",
              "</div>"
            ],
            "text/plain": [
              "     Pregnancies  Glucose  BloodPressure  SkinThickness  Insulin   BMI  \\\n",
              "28            13      145             82             19  110.000  22.2   \n",
              "29             5      117             92             21   68.792  34.1   \n",
              "30             5      109             75             26   68.792  36.0   \n",
              "752            3      108             62             24   68.792  26.0   \n",
              "756            7      137             90             41   68.792  32.0   \n",
              "\n",
              "     DiabetesPedigreeFunction  Age  Outcome  \n",
              "28                      0.245   57        0  \n",
              "29                      0.337   38        0  \n",
              "30                      0.546   60        0  \n",
              "752                     0.223   25        0  \n",
              "756                     0.391   39        0  "
            ]
          },
          "execution_count": 26,
          "metadata": {},
          "output_type": "execute_result"
        }
      ],
      "source": [
        "#replacing with median for 1 values\n",
        "dfone['Pregnancies']=dfone['Pregnancies'].replace(0,dfone['Pregnancies'].median())\n",
        "dfone['Glucose']=dfone['Glucose'].replace(0,dfone['Glucose'].median())\n",
        "dfone['BloodPressure']=dfone['BloodPressure'].replace(0,dfone['BloodPressure'].median())\n",
        "dfone['SkinThickness']=dfone['SkinThickness'].replace(0,dfone['SkinThickness'].median())\n",
        "dfone['Insulin']=dfone['Insulin'].replace(0,dfone['Insulin'].mean())\n",
        "dfone['BMI']=dfone['BMI'].replace(0,dfone['BMI'].median())\n",
        "#replacing with median for 0 values\n",
        "dfzero['Pregnancies']=dfzero['Pregnancies'].replace(0,dfzero['Pregnancies'].median())\n",
        "dfzero['Glucose']=dfzero['Glucose'].replace(0,dfzero['Glucose'].median())\n",
        "dfzero['BloodPressure']=dfzero['BloodPressure'].replace(0,dfzero['BloodPressure'].median())\n",
        "dfzero['SkinThickness']=dfzero['SkinThickness'].replace(0,dfzero['SkinThickness'].median())\n",
        "dfzero['Insulin']=dfzero['Insulin'].replace(0,dfzero['Insulin'].mean())\n",
        "dfzero['BMI']=dfzero['BMI'].replace(0,dfzero['BMI'].median())\n",
        "df = pd.concat([dfzero,dfone])\n",
        "df.head()"
      ]
    },
    {
      "cell_type": "code",
      "execution_count": 27,
      "metadata": {
        "colab": {
          "base_uri": "https://localhost:8080/",
          "height": 366
        },
        "id": "FtMej9v1nOxK",
        "outputId": "e6840063-57c3-47c8-f02d-950a68a212bb"
      },
      "outputs": [
        {
          "data": {
            "text/plain": [
              "Pregnancies                   0\n",
              "Glucose                       0\n",
              "BloodPressure                 0\n",
              "SkinThickness                 0\n",
              "Insulin                       0\n",
              "BMI                           0\n",
              "DiabetesPedigreeFunction      0\n",
              "Age                           0\n",
              "Outcome                     500\n",
              "dtype: int64"
            ]
          },
          "execution_count": 27,
          "metadata": {},
          "output_type": "execute_result"
        }
      ],
      "source": [
        "(df == 0).sum()"
      ]
    },
    {
      "cell_type": "code",
      "execution_count": 28,
      "metadata": {
        "colab": {
          "base_uri": "https://localhost:8080/",
          "height": 866
        },
        "id": "AxJG3nh8noNY",
        "outputId": "e6db30a7-342d-4384-d761-5a588ff2f7b3"
      },
      "outputs": [
        {
          "data": {
            "image/png": "[encoded data removed]",
            "text/plain": [
              "<Figure size 1200x800 with 2 Axes>"
            ]
          },
          "metadata": {},
          "output_type": "display_data"
        }
      ],
      "source": [
        "#point biserial heatmap\n",
        "x = df.iloc[:,:-1]\n",
        "y = df['Outcome']\n",
        "corrvals = x.corrwith(y.astype('float'), method=stats.pointbiserialr)\n",
        "plt.figure(figsize=(12, 8))\n",
        "sns.heatmap(corrvals, annot=True, fmt='.3f')\n",
        "plt.title('Correlation Heatmap')\n",
        "plt.show()\n"
      ]
    },
    {
      "cell_type": "markdown",
      "metadata": {
        "id": "Owk-m59ZpplQ"
      },
      "source": [
        "Point-biserial correlation is used to measure the relationship between a binary variable and a continuous variable. It is a special case of Pearson correlation where one variable is dichotomous.\n",
        "\n",
        "in the above heatmap, we see that for the outcome 1, only 2 features are related, blood pressur and skin thickness."
      ]
    },
    {
      "cell_type": "code",
      "execution_count": 29,
      "metadata": {
        "colab": {
          "base_uri": "https://localhost:8080/",
          "height": 866
        },
        "id": "56mb1X-fkR56",
        "outputId": "4dedea5d-c115-4e04-a73b-2650695752ab"
      },
      "outputs": [
        {
          "data": {
            "image/png": "[encoded data removed]",
            "text/plain": [
              "<Figure size 1200x800 with 2 Axes>"
            ]
          },
          "metadata": {},
          "output_type": "display_data"
        }
      ],
      "source": [
        "plt.figure(figsize=(12, 8))\n",
        "sns.heatmap(df.corr(), annot=True, fmt='.2f')\n",
        "plt.title('Correlation Heatmap')\n",
        "plt.show()"
      ]
    },
    {
      "cell_type": "code",
      "execution_count": 30,
      "metadata": {
        "colab": {
          "base_uri": "https://localhost:8080/",
          "height": 542
        },
        "id": "kIs313SLsN6V",
        "outputId": "63ad1d23-7d1a-4e29-e260-2914f102ad6e"
      },
      "outputs": [
        {
          "data": {
            "application/vnd.plotly.v1+json": {
              "config": {
                "plotlyServerURL": "https://plot.ly"
              },
              "data": [
                {
                  "hovertemplate": "BMI=%{x}<br>SkinThickness=%{y}<br>Outcome=%{marker.color}<extra></extra>",
                  "legendgroup": "",
                  "marker": {
                    "color": {
                      "bdata": "AAAAAAAAAAAAAAAAAAAAAAAAAAAAAAAAAAAAAAAAAAAAAAAAAAAAAAAAAAAAAAAAAAAAAAAAAAAAAAAAAAAAAAAAAAAAAAAAAAAAAAAAAAAAAAAAAAAAAAAAAAAAAAAAAAAAAAAAAAAAAAAAAAAAAAAAAAAAAAAAAAAAAAAAAAAAAAAAAAAAAAAAAAAAAAAAAAAAAAAAAAAAAAAAAAAAAAAAAAAAAAAAAAAAAAAAAAAAAAAAAAAAAAAAAAAAAAAAAAAAAAAAAAAAAAAAAAAAAAAAAAAAAAAAAAAAAAAAAAAAAAAAAAAAAAAAAAAAAAAAAAAAAAAAAAAAAAAAAAAAAAAAAAAAAAAAAAAAAAAAAAAAAAAAAAAAAAAAAAAAAAAAAAAAAAAAAAAAAAAAAAAAAAAAAAAAAAAAAAAAAAAAAAAAAAAAAAAAAAAAAAAAAAAAAAAAAAAAAAAAAAAAAAAAAAAAAAAAAAAAAAAAAAAAAAAAAAAAAAAAAAAAAAAAAAAAAAAAAAAAAAAAAAAAAAAAAAAAAAAAAAAAAAAAAAAAAAAAAAAAAAAAAAAAAAAAAAAAAAAAAAAAAAAAAAAAAAAAAAAAAAAAAAAAAAAAAAAAAAAAAAAAAAAAAAAAAAAAAAAAAAAAAAAAAAAAAAAAAAAAAAAAAAABAQEBAQEBAQEBAQEBAQEBAQEBAQEBAQEBAQEBAQEBAQEBAQEBAQEBAQEBAQEBAQEBAQEBAQEBAQEBAQEBAQEBAQEBAQEBAQEBAQEBAQEBAQEBAQEBAQEBAQEBAQEBAQEBAQEBAQEBAQEBAQEBAQEBAQEBAQEBAQEBAQEBAQEBAQEBAQEBAQEBAQEBAQEBAQEBAQEBAQEBAQEBAQEBAQEBAQEBAQEBAQEBAQEBAQEBAQEBAQEBAQEBAQEBAQEBAQEBAQEBAQEBAQEBAQEBAQEBAQEBAQEBAQEBAQEBAQEBAQEBAQEBAQEBAQEBAQEBAQEBAQEBAQEBAQEBAQEBAQEBAQEBAQEBAQEBAQEB",
                      "dtype": "i1"
                    },
                    "coloraxis": "coloraxis",
                    "symbol": "circle"
                  },
                  "mode": "markers",
                  "name": "",
                  "orientation": "v",
                  "showlegend": false,
                  "type": "scatter",
                  "x": {
                    "bdata": "MzMzMzMzNkDNzMzMzAxBQAAAAAAAAEJAAAAAAAAAOkAAAAAAAABAQAAAAAAAwEJAZmZmZmZmPEAAAAAAAIA2QDMzMzMzc0BAZmZmZmZmQkAzMzMzMzM6QGZmZmZmZj5AmpmZmZmZQUDNzMzMzMw7QJqZmZmZGUNAmpmZmZlZREAzMzMzM7NBQGZmZmZmZjtAAAAAAAAAQEDNzMzMzExCQM3MzMzMzD5AAAAAAACAPEDNzMzMzExEQAAAAAAAAD5AZmZmZmYmR0AAAAAAAIBDQJqZmZmZmTpAmpmZmZkZPECamZmZmZk5QGZmZmZmpkFAzczMzMzMQkAzMzMzMzM3QDMzMzMzMzhAZmZmZmZmOECamZmZmVlBQAAAAAAAADdAZmZmZmZmR0AAAAAAAEBEQAAAAAAAwERAzczMzMwMPkAAAAAAAAA5QGZmZmZmZjlAzczMzMzMOEBmZmZmZuYzQJqZmZmZmTtAAAAAAAAAOECamZmZmZlAQAAAAAAAAEFAAAAAAACAPUCamZmZmRk3QAAAAAAAwEFAAAAAAAAAPUCamZmZmVlFQJqZmZmZmTNAZmZmZmbmPECamZmZmZk8QM3MzMzMjEFAAAAAAAAAQEAzMzMzM7M4QM3MzMzMTEBAmpmZmZnZQkAAAAAAAAA5QM3MzMzMDD5AZmZmZmZmM0CamZmZmZk4QDMzMzMzM0BAzczMzMxMQkAAAAAAAEBDQAAAAAAAgDpAmpmZmZkZM0AAAAAAAABAQJqZmZmZWUdAMzMzMzOzOEAzMzMzM/NAQGZmZmZmZjxAZmZmZmbmQ0AzMzMzMzNBQDMzMzMzMz9AmpmZmZmZPUBmZmZmZmY6QDMzMzMz80FAAAAAAABAQ0CamZmZmZk/QGZmZmZmZjRAMzMzMzOzPECamZmZmRk6QAAAAAAAgDZAmpmZmZmZOkDNzMzMzMxDQDMzMzMzszxAZmZmZmZmNkAAAAAAAIA9QGZmZmZmJkFAZmZmZmZmNkDNzMzMzAw+QM3MzMzMTD1AAAAAAAAAQUCamZmZmdlAQDMzMzMzMzxAMzMzMzMzN0CamZmZmRlBQM3MzMzMzEBAzczMzMzMOkAzMzMzM3NFQGZmZmZmpkBAmpmZmZkZOECamZmZmZk4QM3MzMzMjENAAAAAAACAN0AAAAAAAAA5QAAAAAAAQEFAAAAAAABARkDNzMzMzExGQM3MzMzMDD5AmpmZmZmZQECamZmZmRk3QM3MzMzMTDxAZmZmZmYmQ0CamZmZmRk1QGZmZmZm5kBAzczMzMzMPkAzMzMzM7M8QDMzMzMzMz9AMzMzMzNzQkCamZmZmRk1QAAAAAAAwENAAAAAAABAQEAzMzMzMzM/QGZmZmZmZkBAAAAAAACAPkCamZmZmdlAQM3MzMzMTDtAMzMzMzOzQkBmZmZmZuY1QM3MzMzMTERAmpmZmZmZOEAzMzMzMzM5QAAAAAAAAD1AAAAAAADAQUBmZmZmZqZMQM3MzMzMzEFAZmZmZmamQUAzMzMzMzM4QDMzMzMzMzhAZmZmZmbmPkDNzMzMzMxAQGZmZmZmZjlAMzMzMzOzPUCamZmZmZlCQJqZmZmZGUZAMzMzMzOzPUAAAAAAAEBAQJqZmZmZmT1AZmZmZmbmP0BmZmZmZmY8QGZmZmZm5jxAAAAAAADARUAzMzMzM7M9QGZmZmZmZkBAzczMzMwMPkCamZmZmRlBQDMzMzMzMz9AAAAAAACARkAzMzMzMzM3QDMzMzMzc0FAMzMzMzOzO0DNzMzMzMw6QJqZmZmZmTtAmpmZmZmZNkDNzMzMzIxAQM3MzMzMzDVAMzMzMzNzQ0AAAAAAAIBDQDMzMzMzsztAZmZmZmZmQUAAAAAAAABBQAAAAAAAAD9AzczMzMwMREDNzMzMzEw7QGZmZmZmZjRAmpmZmZnZQkBmZmZmZuY3QM3MzMzMTD1AZmZmZmYmQUAAAAAAAAA8QJqZmZmZmTtAMzMzMzOzQ0BmZmZmZmY6QDMzMzMzMzlAZmZmZmbmQEDNzMzMzAxBQM3MzMzMzDpAAAAAAABAQUAzMzMzMzM6QAAAAAAAgDtAZmZmZmbmOUDNzMzMzMw8QJqZmZmZmT9AAAAAAACAM0CamZmZmZlAQDMzMzMzsztAZmZmZmZmRUCamZmZmRlBQAAAAAAAAD5AMzMzMzMzOUDNzMzMzMw8QGZmZmZmZjhAzczMzMxMOEAAAAAAAMBFQJqZmZmZmTdAzczMzMxMQUCamZmZmdlBQJqZmZmZWUJAmpmZmZmZRkBmZmZmZmY5QAAAAAAAgEFAMzMzMzOzPUBmZmZmZmYyQM3MzMzMzD5AmpmZmZnZQkAzMzMzM7M4QDMzMzMzM0BAzczMzMxMQUAzMzMzM7M4QDMzMzMzs0FAmpmZmZkZPkAzMzMzMzM/QAAAAAAAADxAZmZmZmZmOEBmZmZmZuZBQAAAAAAAwERAAAAAAAAAOEBmZmZmZuY+QAAAAAAAQEBAzczMzMzMOUAzMzMzM7M8QJqZmZmZGTRAMzMzMzMzQ0AzMzMzMzM4QGZmZmZmZkRAAAAAAACAM0CamZmZmRk+QDMzMzMzszxAZmZmZmbmOUBmZmZmZuY+QM3MzMzMDEBAMzMzMzMzQEDNzMzMzMxAQAAAAAAAAERAmpmZmZkZOUAzMzMzMzM5QDMzMzMzMz1AzczMzMyMQECamZmZmRlDQDMzMzMzMz9AZmZmZmYmSkDNzMzMzMw7QGZmZmZm5jhAzczMzMxMOUAzMzMzM/NBQDMzMzMzM0BAAAAAAAAAOkCamZmZmVlDQAAAAAAAgDxAzczMzMzMQEBmZmZmZqZGQM3MzMzMzDtAmpmZmZkZN0CamZmZmRk7QDMzMzMzszdAzczMzMzMO0BmZmZmZuZBQAAAAAAAgDZAzczMzMxMOECamZmZmRk1QDMzMzMzs0NAzczMzMzMNEDNzMzMzAxCQDMzMzMzc0JAZmZmZmbmNUAAAAAAAMBBQDMzMzMzsz5AmpmZmZmZN0BmZmZmZuZBQAAAAAAAADdAmpmZmZmZQECamZmZmRlBQAAAAAAAQERAmpmZmZkZPkAAAAAAAMBBQAAAAAAAADVAmpmZmZnZQ0DNzMzMzMw4QDMzMzMzMzpAMzMzMzOzQ0AAAAAAAIA9QM3MzMzMDEFAzczMzMxMM0DNzMzMzAxDQAAAAAAAADhAAAAAAAAAO0AAAAAAAAA5QAAAAAAAgDpAmpmZmZlZQ0CamZmZmRk3QJqZmZmZWUBAmpmZmZmZN0BmZmZmZuY3QDMzMzMz80dAzczMzMzMQkBmZmZmZuY6QDMzMzMzM0BAmpmZmZkZOkDNzMzMzExDQAAAAAAAAEBAzczMzMxMP0AAAAAAAEBAQJqZmZmZmTZAAAAAAACAPUCamZmZmVlBQGZmZmZm5jlAZmZmZmbmOUAAAAAAAABAQJqZmZmZWUFAZmZmZmZmQkAAAAAAAEBDQDMzMzMzszxAAAAAAACAN0DNzMzMzMw1QJqZmZmZGUVAMzMzMzMzP0AAAAAAAIA7QJqZmZmZ2UFAmpmZmZmZOUDNzMzMzIxBQM3MzMzMzD5AMzMzMzNzQkAAAAAAAIA5QM3MzMzMDENAzczMzMzMO0CamZmZmRlHQJqZmZmZGT5AMzMzMzMzQUAzMzMzMzM7QJqZmZmZWUVAZmZmZmamQUDNzMzMzMw9QJqZmZmZmUNAMzMzMzNzQUAAAAAAAABBQAAAAAAAADVAZmZmZmbmQECamZmZmRlCQDMzMzMzMzlAmpmZmZmZQkAzMzMzM7NFQM3MzMzMzD5AAAAAAAAANEBmZmZmZmY5QJqZmZmZGTlAAAAAAAAAQEDNzMzMzIxAQGZmZmZmZkBAAAAAAACAPEBmZmZmZmY7QGZmZmZm5j9AzczMzMzMO0BmZmZmZuY9QDMzMzMzszVAZmZmZmYmQkAAAAAAAMBDQM3MzMzMTDhAzczMzMxMNkCamZmZmZk/QAAAAAAAAEBAMzMzMzOzN0CamZmZmRk2QDMzMzMzsztAMzMzMzOzOECamZmZmRk1QAAAAAAAgDtAzczMzMwMPkBmZmZmZuZBQDMzMzMzc0FAMzMzMzMzOECamZmZmZk/QM3MzMzMDEVAZmZmZmbmNUCamZmZmdlBQDMzMzMzM0FAMzMzMzMzRUAzMzMzMzM6QM3MzMzMzD5AmpmZmZmZOEDNzMzMzMw9QGZmZmZmpkZAZmZmZmamREDNzMzMzMw9QGZmZmZmpkBAmpmZmZmZPUCamZmZmZlAQM3MzMzMDD5AmpmZmZmZP0DNzMzMzMw1QDMzMzMzMzJAzczMzMxMOkAzMzMzMzM7QDMzMzMzMzJAZmZmZmamRkAAAAAAAAA6QM3MzMzMTERAzczMzMzMPkDNzMzMzAw+QM3MzMzMTERAMzMzMzMzNkBmZmZmZmY+QAAAAAAAgDhAMzMzMzOzQkBmZmZmZuY9QDMzMzMzMzJAZmZmZmZmQkCamZmZmRlAQJqZmZmZmUBAzczMzMxMOUAAAAAAAEBCQDMzMzMzMzhAzczMzMxMO0CamZmZmZk5QM3MzMzMzEJAZmZmZmZmQECamZmZmZkzQAAAAAAAADlAAAAAAAAAOUCamZmZmRk2QAAAAAAAgD5AMzMzMzMzNUAzMzMzM/NDQJqZmZmZmTNAZmZmZmbmQkAzMzMzM7M6QDMzMzMzMz5AZmZmZmbmOUDNzMzMzMw0QM3MzMzMzDVAZmZmZmamQUCamZmZmZk7QAAAAAAAAD5AmpmZmZmZOUBmZmZmZuY9QGZmZmZm5jxAzczMzMxMO0DNzMzMzMw3QGZmZmZm5jlAAAAAAAAAPEAAAAAAAAA6QJqZmZmZGT5AzczMzMxMPUAzMzMzMzM5QJqZmZmZmUJAZmZmZmamQEBmZmZmZqZCQGZmZmZmpkBAmpmZmZmZPEBmZmZmZmY+QAAAAAAAQEdAmpmZmZmZOUCamZmZmRk6QGZmZmZmZkJAAAAAAADAQEBmZmZmZmZAQM3MzMzMDD5AmpmZmZmZOkAAAAAAAAA4QM3MzMzMzDVAzczMzMzMO0BmZmZmZmZCQM3MzMzMDEdAZmZmZmamRECamZmZmZlAQGZmZmZmZkNAmpmZmZkZREAzMzMzM7M2QGZmZmZmZjtAMzMzMzOzPUAAAAAAAAA8QM3MzMzMTD1AzczMzMwMQ0DNzMzMzIxDQGZmZmZmZkBAMzMzMzOzQ0DNzMzMzAxCQDMzMzMzM0BAZmZmZmbmNkCamZmZmRk+QAAAAAAAAD1AzczMzMxMN0AzMzMzM7NBQGZmZmZmpkNAZmZmZmamRUCamZmZmRk7QGZmZmZm5kZAmpmZmZmZPUDNzMzMzExBQGZmZmZm5kNAAAAAAAAAPUDNzMzMzExCQJqZmZmZGT9AMzMzMzOzQ0CamZmZmZk/QGZmZmZmpkVAMzMzMzMzQEAAAAAAAEBCQGZmZmZmJkJAAAAAAADAQUAAAAAAAABGQJqZmZmZGT5AAAAAAADAQUCamZmZmRlGQGZmZmZmJkVAZmZmZmbmPEAAAAAAAAA+QJqZmZmZ2UBAmpmZmZkZOUAAAAAAAIBDQAAAAAAAQEJAMzMzMzOzPUDNzMzMzMxAQGZmZmZm5jxAzczMzMzMQEDNzMzMzMxCQDMzMzMzM0VAZmZmZmYmQUAAAAAAAIA+QDMzMzMzsz1AMzMzMzOzTUCamZmZmZk/QM3MzMzMTD5AmpmZmZkZQUAAAAAAAEBDQGZmZmZmZjpAMzMzMzNzRUAAAAAAAIBCQM3MzMzMDEFAAAAAAACAQUAAAAAAAABAQAAAAAAAgEFAMzMzMzNzQEBmZmZmZuY8QGZmZmZm5jlAMzMzMzMzRUDNzMzMzExBQJqZmZmZ2UFAMzMzMzNzQEAzMzMzMzNCQDMzMzMzs0NAMzMzMzMzQEAzMzMzM3NBQGZmZmZmJkBAZmZmZmamRUAAAAAAAABAQJqZmZmZ2UZAMzMzMzNzQEBmZmZmZiZBQDMzMzMzc0FAZmZmZmZmQEAzMzMzMzNDQJqZmZmZmUNAZmZmZmYmSEAAAAAAAEBBQM3MzMzMzEVAZmZmZmZmPkBmZmZmZqZAQDMzMzMz80NAAAAAAABAQkAzMzMzMzM/QAAAAAAAQENAmpmZmZmZO0AzMzMzMzM/QJqZmZmZGUFAMzMzMzPzQ0AAAAAAAIBEQJqZmZmZmT9AZmZmZmZmO0DNzMzMzMw6QM3MzMzMjEFAAAAAAADARkBmZmZmZqZFQGZmZmZm5kBAZmZmZmamREBmZmZmZiZBQAAAAAAAgDlAAAAAAACAPkAzMzMzM3NAQJqZmZmZmTpAMzMzMzPzQUAAAAAAAIA+QAAAAAAAgDdAMzMzMzNzRUCamZmZmVlBQM3MzMzMDEVAMzMzMzOzPEAzMzMzM3NBQGZmZmZmpkBAZmZmZmZmR0DNzMzMzExCQGZmZmZmpkVAAAAAAABAREAAAAAAAAA8QM3MzMzMTEJAZmZmZmYmQECamZmZmZk/QDMzMzMzc0pAAAAAAACAOkAzMzMzM/NCQGZmZmZmZj5AAAAAAAAAO0DNzMzMzMxGQDMzMzMzM0FAAAAAAAAAQEBmZmZmZmZCQJqZmZmZmUFAZmZmZmZmPEAAAAAAAABEQGZmZmZmpkBAAAAAAAAAPkAAAAAAAABAQGZmZmZmJkJAAAAAAACAO0DNzMzMzMxGQJqZmZmZmTlAmpmZmZkZO0AAAAAAAAA+QJqZmZmZmTtAzczMzMzMQEAzMzMzM3NAQJqZmZmZGUNAzczMzMwMQkAzMzMzMzM8QDMzMzMzM0BAmpmZmZmZQkAAAAAAAABGQJqZmZmZGUdAzczMzMzMRUAzMzMzM/NBQM3MzMzMDEZAzczMzMzMPkBmZmZmZmY7QDMzMzMzMz9AMzMzMzNzREAAAAAAAMBBQM3MzMzMTEVAmpmZmZkZQUBmZmZmZuZEQGZmZmZm5kFAAAAAAAAAPUBmZmZmZuZCQM3MzMzMTEFAmpmZmZmZP0BmZmZmZmY+QGZmZmZmJkpAMzMzMzOzQ0BmZmZmZuY2QGZmZmZmZkFAZmZmZmbmPkAAAAAAAMBCQJqZmZmZ2UJAAAAAAACAPUBmZmZmZmY3QGZmZmZm5kJAzczMzMxMPECamZmZmVlDQGZmZmZmxlBAzczMzMyMQ0AzMzMzM/NBQJqZmZmZGT5AAAAAAAAAQEBmZmZmZuY7QJqZmZmZmT9AmpmZmZkZQUAzMzMzM3NFQM3MzMzMzEJAMzMzMzPzQkCamZmZmdlAQAAAAAAAQEBAAAAAAACAO0CamZmZmZk/QGZmZmZm5j1AzczMzMzMPkAzMzMzM7NBQJqZmZmZWUBAZmZmZmYmQUAzMzMzM/NHQAAAAAAAAElAMzMzMzNzREBmZmZmZuY+QM3MzMzMzDhAAAAAAAAAQkDNzMzMzMxIQGZmZmZmJkBAAAAAAABAQUBmZmZmZuY7QDMzMzMzsz1AZmZmZmamQEAAAAAAAEBBQDMzMzMzM0BAAAAAAACAPkAzMzMzMzM/QAAAAAAAAEFAmpmZmZmZSkBmZmZmZqZAQAAAAAAAgEtAzczMzMwMR0BmZmZmZiZFQAAAAAAAQENAZmZmZmZmPkBmZmZmZuY9QJqZmZmZmTtAAAAAAACAQUCamZmZmdlIQAAAAAAAgENAMzMzMzOzQkBmZmZmZqZAQAAAAAAAAEFAZmZmZmZmSEDNzMzMzIxCQM3MzMzMzDdAAAAAAAAgQUBmZmZmZmZAQAAAAAAAAENAmpmZmZmZREAzMzMzM/NAQGZmZmZm5kBAzczMzMzMQUBmZmZmZmZAQAAAAAAAQEBAMzMzMzNzQEAzMzMzM7NFQJqZmZmZmUVAzczMzMyMQ0CamZmZmdlAQJqZmZmZ2UJAMzMzMzNzQEAzMzMzM3NAQJqZmZmZGUNAzczMzMyMQkAzMzMzM7NGQAAAAAAAAEVAzczMzMxMPUBmZmZmZmY8QGZmZmZmZjxAAAAAAABARkAAAAAAAMBDQGZmZmZmJkVAmpmZmZlZQEBmZmZmZqZIQDMzMzMzM0JAzczMzMxMOEAzMzMzMzM/QM3MzMzMzEBAzczMzMxMN0DNzMzMzIxFQAAAAAAAAD9AAAAAAACAPkAAAAAAACBBQAAAAAAAAENAmpmZmZkZPkDNzMzMzMw5QAAAAAAAAD5A",
                    "dtype": "f8"
                  },
                  "xaxis": "x",
                  "y": {
                    "bdata": "ExUaGCkVGhUwGxcfJRYfKSAbFxEUEiUhKScdFxUVFQ8PFSoKPBUpFRUiCxUfIRUZFRIuGxUNGyMUHhQVIRYVCxwdNhkTFQ8oEhsUJBUNGxQbFRwSHhUVEhUdFRwfDRUaFRUXDyceFR4kGhUgFRULFScVGhUTHw0UGhkVHRUeGiIlIxURMhUqDxUTFyMVFREcHhoKJigiFxkVFQwXKhgfFxwVFRUSFBUVFSwjMBUVLSEQFRQQIBwRFRUeIxkZFygVKBURFRUSDBsWNh8eFSEUFRsPGxUnHxkVHBUVLxUVFRYhExUVDiAnDRUcFRUNKhQVGScWEA8gDxIqFSAYICMVIRcVChwPGiwWLRUTEhMVJCALFRUyESsdFR8dFSkVMhU0Hi8VJQ4eJQoWCycUFRsRFRMQFRIrIhMVDh4gHRUVHxENFSMVFSQTFRMVFQwgFRUgFyEoFSgVHAwVKBUlGRwRFSsPJSceFggSHRUrHxweFRgVJRcYDRcdDgwYIhUQFxYoFRkgFSceFxYfFRIVNBUeFSEVFRITDxUVKRIuFhUuFRAIIRUPFRcbDC0VFRMVFQcgFRESDSAVHBUcIRYVKB4LFRUVGxEmHxUPIBMgGScVFxcgERUcHiYVFRUNCiQpKCYbFRIVFRsTJB4VKB0aFRUbFRUpJhUvGx4bIyEaGyQsICcbGx8bHhsqEhstISkaHyUbHjAbGRsMPxIiGyAdICceGRspGxsbMSMhGzEoGSAdJBobGygfHDArGyMbGygeJCEbGxsiGyAeFCEgJBsbIB4XExwRHxsbG2MuGBsbKB4lLSYZGyEbGBsbGycbDhsdGyocGxsbGyUbFg8HIxYqGhgbJhslGxUbFRsbICEaICgpFhsdGxsbKQ0sGx0bGxEkIxsuGxwkKScjHysuLicSGxsSGxcqHBssKRsbGyQbGBsOGyUbIBsbOBsqLhsxGBMfHTMbGSEaGyAbGxsgJCEnGxseFBsbICInGyUqLxgnHRcbJRslGykWGxsjGyMgLRsbFxMb",
                    "dtype": "i1"
                  },
                  "yaxis": "y"
                }
              ],
              "layout": {
                "coloraxis": {
                  "colorbar": {
                    "title": {
                      "text": "Outcome"
                    }
                  },
                  "colorscale": [
                    [
                      0,
                      "#0d0887"
                    ],
                    [
                      0.1111111111111111,
                      "#46039f"
                    ],
                    [
                      0.2222222222222222,
                      "#7201a8"
                    ],
                    [
                      0.3333333333333333,
                      "#9c179e"
                    ],
                    [
                      0.4444444444444444,
                      "#bd3786"
                    ],
                    [
                      0.5555555555555556,
                      "#d8576b"
                    ],
                    [
                      0.6666666666666666,
                      "#ed7953"
                    ],
                    [
                      0.7777777777777778,
                      "#fb9f3a"
                    ],
                    [
                      0.8888888888888888,
                      "#fdca26"
                    ],
                    [
                      1,
                      "#f0f921"
                    ]
                  ]
                },
                "legend": {
                  "tracegroupgap": 0
                },
                "template": {
                  "data": {
                    "bar": [
                      {
                        "error_x": {
                          "color": "#f2f5fa"
                        },
                        "error_y": {
                          "color": "#f2f5fa"
                        },
                        "marker": {
                          "line": {
                            "color": "rgb(17,17,17)",
                            "width": 0.5
                          },
                          "pattern": {
                            "fillmode": "overlay",
                            "size": 10,
                            "solidity": 0.2
                          }
                        },
                        "type": "bar"
                      }
                    ],
                    "barpolar": [
                      {
                        "marker": {
                          "line": {
                            "color": "rgb(17,17,17)",
                            "width": 0.5
                          },
                          "pattern": {
                            "fillmode": "overlay",
                            "size": 10,
                            "solidity": 0.2
                          }
                        },
                        "type": "barpolar"
                      }
                    ],
                    "carpet": [
                      {
                        "aaxis": {
                          "endlinecolor": "#A2B1C6",
                          "gridcolor": "#506784",
                          "linecolor": "#506784",
                          "minorgridcolor": "#506784",
                          "startlinecolor": "#A2B1C6"
                        },
                        "baxis": {
                          "endlinecolor": "#A2B1C6",
                          "gridcolor": "#506784",
                          "linecolor": "#506784",
                          "minorgridcolor": "#506784",
                          "startlinecolor": "#A2B1C6"
                        },
                        "type": "carpet"
                      }
                    ],
                    "choropleth": [
                      {
                        "colorbar": {
                          "outlinewidth": 0,
                          "ticks": ""
                        },
                        "type": "choropleth"
                      }
                    ],
                    "contour": [
                      {
                        "colorbar": {
                          "outlinewidth": 0,
                          "ticks": ""
                        },
                        "colorscale": [
                          [
                            0,
                            "#0d0887"
                          ],
                          [
                            0.1111111111111111,
                            "#46039f"
                          ],
                          [
                            0.2222222222222222,
                            "#7201a8"
                          ],
                          [
                            0.3333333333333333,
                            "#9c179e"
                          ],
                          [
                            0.4444444444444444,
                            "#bd3786"
                          ],
                          [
                            0.5555555555555556,
                            "#d8576b"
                          ],
                          [
                            0.6666666666666666,
                            "#ed7953"
                          ],
                          [
                            0.7777777777777778,
                            "#fb9f3a"
                          ],
                          [
                            0.8888888888888888,
                            "#fdca26"
                          ],
                          [
                            1,
                            "#f0f921"
                          ]
                        ],
                        "type": "contour"
                      }
                    ],
                    "contourcarpet": [
                      {
                        "colorbar": {
                          "outlinewidth": 0,
                          "ticks": ""
                        },
                        "type": "contourcarpet"
                      }
                    ],
                    "heatmap": [
                      {
                        "colorbar": {
                          "outlinewidth": 0,
                          "ticks": ""
                        },
                        "colorscale": [
                          [
                            0,
                            "#0d0887"
                          ],
                          [
                            0.1111111111111111,
                            "#46039f"
                          ],
                          [
                            0.2222222222222222,
                            "#7201a8"
                          ],
                          [
                            0.3333333333333333,
                            "#9c179e"
                          ],
                          [
                            0.4444444444444444,
                            "#bd3786"
                          ],
                          [
                            0.5555555555555556,
                            "#d8576b"
                          ],
                          [
                            0.6666666666666666,
                            "#ed7953"
                          ],
                          [
                            0.7777777777777778,
                            "#fb9f3a"
                          ],
                          [
                            0.8888888888888888,
                            "#fdca26"
                          ],
                          [
                            1,
                            "#f0f921"
                          ]
                        ],
                        "type": "heatmap"
                      }
                    ],
                    "histogram": [
                      {
                        "marker": {
                          "pattern": {
                            "fillmode": "overlay",
                            "size": 10,
                            "solidity": 0.2
                          }
                        },
                        "type": "histogram"
                      }
                    ],
                    "histogram2d": [
                      {
                        "colorbar": {
                          "outlinewidth": 0,
                          "ticks": ""
                        },
                        "colorscale": [
                          [
                            0,
                            "#0d0887"
                          ],
                          [
                            0.1111111111111111,
                            "#46039f"
                          ],
                          [
                            0.2222222222222222,
                            "#7201a8"
                          ],
                          [
                            0.3333333333333333,
                            "#9c179e"
                          ],
                          [
                            0.4444444444444444,
                            "#bd3786"
                          ],
                          [
                            0.5555555555555556,
                            "#d8576b"
                          ],
                          [
                            0.6666666666666666,
                            "#ed7953"
                          ],
                          [
                            0.7777777777777778,
                            "#fb9f3a"
                          ],
                          [
                            0.8888888888888888,
                            "#fdca26"
                          ],
                          [
                            1,
                            "#f0f921"
                          ]
                        ],
                        "type": "histogram2d"
                      }
                    ],
                    "histogram2dcontour": [
                      {
                        "colorbar": {
                          "outlinewidth": 0,
                          "ticks": ""
                        },
                        "colorscale": [
                          [
                            0,
                            "#0d0887"
                          ],
                          [
                            0.1111111111111111,
                            "#46039f"
                          ],
                          [
                            0.2222222222222222,
                            "#7201a8"
                          ],
                          [
                            0.3333333333333333,
                            "#9c179e"
                          ],
                          [
                            0.4444444444444444,
                            "#bd3786"
                          ],
                          [
                            0.5555555555555556,
                            "#d8576b"
                          ],
                          [
                            0.6666666666666666,
                            "#ed7953"
                          ],
                          [
                            0.7777777777777778,
                            "#fb9f3a"
                          ],
                          [
                            0.8888888888888888,
                            "#fdca26"
                          ],
                          [
                            1,
                            "#f0f921"
                          ]
                        ],
                        "type": "histogram2dcontour"
                      }
                    ],
                    "mesh3d": [
                      {
                        "colorbar": {
                          "outlinewidth": 0,
                          "ticks": ""
                        },
                        "type": "mesh3d"
                      }
                    ],
                    "parcoords": [
                      {
                        "line": {
                          "colorbar": {
                            "outlinewidth": 0,
                            "ticks": ""
                          }
                        },
                        "type": "parcoords"
                      }
                    ],
                    "pie": [
                      {
                        "automargin": true,
                        "type": "pie"
                      }
                    ],
                    "scatter": [
                      {
                        "marker": {
                          "line": {
                            "color": "#283442"
                          }
                        },
                        "type": "scatter"
                      }
                    ],
                    "scatter3d": [
                      {
                        "line": {
                          "colorbar": {
                            "outlinewidth": 0,
                            "ticks": ""
                          }
                        },
                        "marker": {
                          "colorbar": {
                            "outlinewidth": 0,
                            "ticks": ""
                          }
                        },
                        "type": "scatter3d"
                      }
                    ],
                    "scattercarpet": [
                      {
                        "marker": {
                          "colorbar": {
                            "outlinewidth": 0,
                            "ticks": ""
                          }
                        },
                        "type": "scattercarpet"
                      }
                    ],
                    "scattergeo": [
                      {
                        "marker": {
                          "colorbar": {
                            "outlinewidth": 0,
                            "ticks": ""
                          }
                        },
                        "type": "scattergeo"
                      }
                    ],
                    "scattergl": [
                      {
                        "marker": {
                          "line": {
                            "color": "#283442"
                          }
                        },
                        "type": "scattergl"
                      }
                    ],
                    "scattermap": [
                      {
                        "marker": {
                          "colorbar": {
                            "outlinewidth": 0,
                            "ticks": ""
                          }
                        },
                        "type": "scattermap"
                      }
                    ],
                    "scattermapbox": [
                      {
                        "marker": {
                          "colorbar": {
                            "outlinewidth": 0,
                            "ticks": ""
                          }
                        },
                        "type": "scattermapbox"
                      }
                    ],
                    "scatterpolar": [
                      {
                        "marker": {
                          "colorbar": {
                            "outlinewidth": 0,
                            "ticks": ""
                          }
                        },
                        "type": "scatterpolar"
                      }
                    ],
                    "scatterpolargl": [
                      {
                        "marker": {
                          "colorbar": {
                            "outlinewidth": 0,
                            "ticks": ""
                          }
                        },
                        "type": "scatterpolargl"
                      }
                    ],
                    "scatterternary": [
                      {
                        "marker": {
                          "colorbar": {
                            "outlinewidth": 0,
                            "ticks": ""
                          }
                        },
                        "type": "scatterternary"
                      }
                    ],
                    "surface": [
                      {
                        "colorbar": {
                          "outlinewidth": 0,
                          "ticks": ""
                        },
                        "colorscale": [
                          [
                            0,
                            "#0d0887"
                          ],
                          [
                            0.1111111111111111,
                            "#46039f"
                          ],
                          [
                            0.2222222222222222,
                            "#7201a8"
                          ],
                          [
                            0.3333333333333333,
                            "#9c179e"
                          ],
                          [
                            0.4444444444444444,
                            "#bd3786"
                          ],
                          [
                            0.5555555555555556,
                            "#d8576b"
                          ],
                          [
                            0.6666666666666666,
                            "#ed7953"
                          ],
                          [
                            0.7777777777777778,
                            "#fb9f3a"
                          ],
                          [
                            0.8888888888888888,
                            "#fdca26"
                          ],
                          [
                            1,
                            "#f0f921"
                          ]
                        ],
                        "type": "surface"
                      }
                    ],
                    "table": [
                      {
                        "cells": {
                          "fill": {
                            "color": "#506784"
                          },
                          "line": {
                            "color": "rgb(17,17,17)"
                          }
                        },
                        "header": {
                          "fill": {
                            "color": "#2a3f5f"
                          },
                          "line": {
                            "color": "rgb(17,17,17)"
                          }
                        },
                        "type": "table"
                      }
                    ]
                  },
                  "layout": {
                    "annotationdefaults": {
                      "arrowcolor": "#f2f5fa",
                      "arrowhead": 0,
                      "arrowwidth": 1
                    },
                    "autotypenumbers": "strict",
                    "coloraxis": {
                      "colorbar": {
                        "outlinewidth": 0,
                        "ticks": ""
                      }
                    },
                    "colorscale": {
                      "diverging": [
                        [
                          0,
                          "#8e0152"
                        ],
                        [
                          0.1,
                          "#c51b7d"
                        ],
                        [
                          0.2,
                          "#de77ae"
                        ],
                        [
                          0.3,
                          "#f1b6da"
                        ],
                        [
                          0.4,
                          "#fde0ef"
                        ],
                        [
                          0.5,
                          "#f7f7f7"
                        ],
                        [
                          0.6,
                          "#e6f5d0"
                        ],
                        [
                          0.7,
                          "#b8e186"
                        ],
                        [
                          0.8,
                          "#7fbc41"
                        ],
                        [
                          0.9,
                          "#4d9221"
                        ],
                        [
                          1,
                          "#276419"
                        ]
                      ],
                      "sequential": [
                        [
                          0,
                          "#0d0887"
                        ],
                        [
                          0.1111111111111111,
                          "#46039f"
                        ],
                        [
                          0.2222222222222222,
                          "#7201a8"
                        ],
                        [
                          0.3333333333333333,
                          "#9c179e"
                        ],
                        [
                          0.4444444444444444,
                          "#bd3786"
                        ],
                        [
                          0.5555555555555556,
                          "#d8576b"
                        ],
                        [
                          0.6666666666666666,
                          "#ed7953"
                        ],
                        [
                          0.7777777777777778,
                          "#fb9f3a"
                        ],
                        [
                          0.8888888888888888,
                          "#fdca26"
                        ],
                        [
                          1,
                          "#f0f921"
                        ]
                      ],
                      "sequentialminus": [
                        [
                          0,
                          "#0d0887"
                        ],
                        [
                          0.1111111111111111,
                          "#46039f"
                        ],
                        [
                          0.2222222222222222,
                          "#7201a8"
                        ],
                        [
                          0.3333333333333333,
                          "#9c179e"
                        ],
                        [
                          0.4444444444444444,
                          "#bd3786"
                        ],
                        [
                          0.5555555555555556,
                          "#d8576b"
                        ],
                        [
                          0.6666666666666666,
                          "#ed7953"
                        ],
                        [
                          0.7777777777777778,
                          "#fb9f3a"
                        ],
                        [
                          0.8888888888888888,
                          "#fdca26"
                        ],
                        [
                          1,
                          "#f0f921"
                        ]
                      ]
                    },
                    "colorway": [
                      "#636efa",
                      "#EF553B",
                      "#00cc96",
                      "#ab63fa",
                      "#FFA15A",
                      "#19d3f3",
                      "#FF6692",
                      "#B6E880",
                      "#FF97FF",
                      "#FECB52"
                    ],
                    "font": {
                      "color": "#f2f5fa"
                    },
                    "geo": {
                      "bgcolor": "rgb(17,17,17)",
                      "lakecolor": "rgb(17,17,17)",
                      "landcolor": "rgb(17,17,17)",
                      "showlakes": true,
                      "showland": true,
                      "subunitcolor": "#506784"
                    },
                    "hoverlabel": {
                      "align": "left"
                    },
                    "hovermode": "closest",
                    "mapbox": {
                      "style": "dark"
                    },
                    "paper_bgcolor": "rgb(17,17,17)",
                    "plot_bgcolor": "rgb(17,17,17)",
                    "polar": {
                      "angularaxis": {
                        "gridcolor": "#506784",
                        "linecolor": "#506784",
                        "ticks": ""
                      },
                      "bgcolor": "rgb(17,17,17)",
                      "radialaxis": {
                        "gridcolor": "#506784",
                        "linecolor": "#506784",
                        "ticks": ""
                      }
                    },
                    "scene": {
                      "xaxis": {
                        "backgroundcolor": "rgb(17,17,17)",
                        "gridcolor": "#506784",
                        "gridwidth": 2,
                        "linecolor": "#506784",
                        "showbackground": true,
                        "ticks": "",
                        "zerolinecolor": "#C8D4E3"
                      },
                      "yaxis": {
                        "backgroundcolor": "rgb(17,17,17)",
                        "gridcolor": "#506784",
                        "gridwidth": 2,
                        "linecolor": "#506784",
                        "showbackground": true,
                        "ticks": "",
                        "zerolinecolor": "#C8D4E3"
                      },
                      "zaxis": {
                        "backgroundcolor": "rgb(17,17,17)",
                        "gridcolor": "#506784",
                        "gridwidth": 2,
                        "linecolor": "#506784",
                        "showbackground": true,
                        "ticks": "",
                        "zerolinecolor": "#C8D4E3"
                      }
                    },
                    "shapedefaults": {
                      "line": {
                        "color": "#f2f5fa"
                      }
                    },
                    "sliderdefaults": {
                      "bgcolor": "#C8D4E3",
                      "bordercolor": "rgb(17,17,17)",
                      "borderwidth": 1,
                      "tickwidth": 0
                    },
                    "ternary": {
                      "aaxis": {
                        "gridcolor": "#506784",
                        "linecolor": "#506784",
                        "ticks": ""
                      },
                      "baxis": {
                        "gridcolor": "#506784",
                        "linecolor": "#506784",
                        "ticks": ""
                      },
                      "bgcolor": "rgb(17,17,17)",
                      "caxis": {
                        "gridcolor": "#506784",
                        "linecolor": "#506784",
                        "ticks": ""
                      }
                    },
                    "title": {
                      "x": 0.05
                    },
                    "updatemenudefaults": {
                      "bgcolor": "#506784",
                      "borderwidth": 0
                    },
                    "xaxis": {
                      "automargin": true,
                      "gridcolor": "#283442",
                      "linecolor": "#506784",
                      "ticks": "",
                      "title": {
                        "standoff": 15
                      },
                      "zerolinecolor": "#283442",
                      "zerolinewidth": 2
                    },
                    "yaxis": {
                      "automargin": true,
                      "gridcolor": "#283442",
                      "linecolor": "#506784",
                      "ticks": "",
                      "title": {
                        "standoff": 15
                      },
                      "zerolinecolor": "#283442",
                      "zerolinewidth": 2
                    }
                  }
                },
                "title": {
                  "text": "BMI vs skin thickness"
                },
                "xaxis": {
                  "anchor": "y",
                  "domain": [
                    0,
                    1
                  ],
                  "title": {
                    "text": "BMI"
                  }
                },
                "yaxis": {
                  "anchor": "x",
                  "domain": [
                    0,
                    1
                  ],
                  "title": {
                    "text": "SkinThickness"
                  }
                }
              }
            }
          },
          "metadata": {},
          "output_type": "display_data"
        }
      ],
      "source": [
        "fig = px.scatter(df,x = \"BMI\", y = \"SkinThickness\", title = \"BMI vs skin thickness\", template = \"plotly_dark\", color = \"Outcome\")\n",
        "fig.show()"
      ]
    },
    {
      "cell_type": "code",
      "execution_count": 31,
      "metadata": {
        "colab": {
          "base_uri": "https://localhost:8080/",
          "height": 542
        },
        "id": "2KeAJzZFvNcH",
        "outputId": "5118fab3-3100-44da-d4cf-48786d4f0c42"
      },
      "outputs": [
        {
          "data": {
            "application/vnd.plotly.v1+json": {
              "config": {
                "plotlyServerURL": "https://plot.ly"
              },
              "data": [
                {
                  "hovertemplate": "Glucose=%{x}<br>Insulin=%{y}<br>Outcome=%{marker.color}<extra></extra>",
                  "legendgroup": "",
                  "marker": {
                    "color": {
                      "bdata": "AAAAAAAAAAAAAAAAAAAAAAAAAAAAAAAAAAAAAAAAAAAAAAAAAAAAAAAAAAAAAAAAAAAAAAAAAAAAAAAAAAAAAAAAAAAAAAAAAAAAAAAAAAAAAAAAAAAAAAAAAAAAAAAAAAAAAAAAAAAAAAAAAAAAAAAAAAAAAAAAAAAAAAAAAAAAAAAAAAAAAAAAAAAAAAAAAAAAAAAAAAAAAAAAAAAAAAAAAAAAAAAAAAAAAAAAAAAAAAAAAAAAAAAAAAAAAAAAAAAAAAAAAAAAAAAAAAAAAAAAAAAAAAAAAAAAAAAAAAAAAAAAAAAAAAAAAAAAAAAAAAAAAAAAAAAAAAAAAAAAAAAAAAAAAAAAAAAAAAAAAAAAAAAAAAAAAAAAAAAAAAAAAAAAAAAAAAAAAAAAAAAAAAAAAAAAAAAAAAAAAAAAAAAAAAAAAAAAAAAAAAAAAAAAAAAAAAAAAAAAAAAAAAAAAAAAAAAAAAAAAAAAAAAAAAAAAAAAAAAAAAAAAAAAAAAAAAAAAAAAAAAAAAAAAAAAAAAAAAAAAAAAAAAAAAAAAAAAAAAAAAAAAAAAAAAAAAAAAAAAAAAAAAAAAAAAAAAAAAAAAAAAAAAAAAAAAAAAAAAAAAAAAAAAAAAAAAAAAAAAAAAAAAAAAAAAAAAAAAAAAAAAAAABAQEBAQEBAQEBAQEBAQEBAQEBAQEBAQEBAQEBAQEBAQEBAQEBAQEBAQEBAQEBAQEBAQEBAQEBAQEBAQEBAQEBAQEBAQEBAQEBAQEBAQEBAQEBAQEBAQEBAQEBAQEBAQEBAQEBAQEBAQEBAQEBAQEBAQEBAQEBAQEBAQEBAQEBAQEBAQEBAQEBAQEBAQEBAQEBAQEBAQEBAQEBAQEBAQEBAQEBAQEBAQEBAQEBAQEBAQEBAQEBAQEBAQEBAQEBAQEBAQEBAQEBAQEBAQEBAQEBAQEBAQEBAQEBAQEBAQEBAQEBAQEBAQEBAQEBAQEBAQEBAQEBAQEBAQEBAQEBAQEBAQEBAQEBAQEBAQEB",
                      "dtype": "i1"
                    },
                    "coloraxis": "coloraxis",
                    "symbol": "circle"
                  },
                  "mode": "markers",
                  "name": "",
                  "orientation": "v",
                  "showlegend": false,
                  "type": "scatter",
                  "x": {
                    "bdata": "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",
                    "dtype": "i2"
                  },
                  "xaxis": "x",
                  "y": {
                    "bdata": "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",
                    "dtype": "f8"
                  },
                  "yaxis": "y"
                }
              ],
              "layout": {
                "coloraxis": {
                  "colorbar": {
                    "title": {
                      "text": "Outcome"
                    }
                  },
                  "colorscale": [
                    [
                      0,
                      "#0d0887"
                    ],
                    [
                      0.1111111111111111,
                      "#46039f"
                    ],
                    [
                      0.2222222222222222,
                      "#7201a8"
                    ],
                    [
                      0.3333333333333333,
                      "#9c179e"
                    ],
                    [
                      0.4444444444444444,
                      "#bd3786"
                    ],
                    [
                      0.5555555555555556,
                      "#d8576b"
                    ],
                    [
                      0.6666666666666666,
                      "#ed7953"
                    ],
                    [
                      0.7777777777777778,
                      "#fb9f3a"
                    ],
                    [
                      0.8888888888888888,
                      "#fdca26"
                    ],
                    [
                      1,
                      "#f0f921"
                    ]
                  ]
                },
                "legend": {
                  "tracegroupgap": 0
                },
                "template": {
                  "data": {
                    "bar": [
                      {
                        "error_x": {
                          "color": "#f2f5fa"
                        },
                        "error_y": {
                          "color": "#f2f5fa"
                        },
                        "marker": {
                          "line": {
                            "color": "rgb(17,17,17)",
                            "width": 0.5
                          },
                          "pattern": {
                            "fillmode": "overlay",
                            "size": 10,
                            "solidity": 0.2
                          }
                        },
                        "type": "bar"
                      }
                    ],
                    "barpolar": [
                      {
                        "marker": {
                          "line": {
                            "color": "rgb(17,17,17)",
                            "width": 0.5
                          },
                          "pattern": {
                            "fillmode": "overlay",
                            "size": 10,
                            "solidity": 0.2
                          }
                        },
                        "type": "barpolar"
                      }
                    ],
                    "carpet": [
                      {
                        "aaxis": {
                          "endlinecolor": "#A2B1C6",
                          "gridcolor": "#506784",
                          "linecolor": "#506784",
                          "minorgridcolor": "#506784",
                          "startlinecolor": "#A2B1C6"
                        },
                        "baxis": {
                          "endlinecolor": "#A2B1C6",
                          "gridcolor": "#506784",
                          "linecolor": "#506784",
                          "minorgridcolor": "#506784",
                          "startlinecolor": "#A2B1C6"
                        },
                        "type": "carpet"
                      }
                    ],
                    "choropleth": [
                      {
                        "colorbar": {
                          "outlinewidth": 0,
                          "ticks": ""
                        },
                        "type": "choropleth"
                      }
                    ],
                    "contour": [
                      {
                        "colorbar": {
                          "outlinewidth": 0,
                          "ticks": ""
                        },
                        "colorscale": [
                          [
                            0,
                            "#0d0887"
                          ],
                          [
                            0.1111111111111111,
                            "#46039f"
                          ],
                          [
                            0.2222222222222222,
                            "#7201a8"
                          ],
                          [
                            0.3333333333333333,
                            "#9c179e"
                          ],
                          [
                            0.4444444444444444,
                            "#bd3786"
                          ],
                          [
                            0.5555555555555556,
                            "#d8576b"
                          ],
                          [
                            0.6666666666666666,
                            "#ed7953"
                          ],
                          [
                            0.7777777777777778,
                            "#fb9f3a"
                          ],
                          [
                            0.8888888888888888,
                            "#fdca26"
                          ],
                          [
                            1,
                            "#f0f921"
                          ]
                        ],
                        "type": "contour"
                      }
                    ],
                    "contourcarpet": [
                      {
                        "colorbar": {
                          "outlinewidth": 0,
                          "ticks": ""
                        },
                        "type": "contourcarpet"
                      }
                    ],
                    "heatmap": [
                      {
                        "colorbar": {
                          "outlinewidth": 0,
                          "ticks": ""
                        },
                        "colorscale": [
                          [
                            0,
                            "#0d0887"
                          ],
                          [
                            0.1111111111111111,
                            "#46039f"
                          ],
                          [
                            0.2222222222222222,
                            "#7201a8"
                          ],
                          [
                            0.3333333333333333,
                            "#9c179e"
                          ],
                          [
                            0.4444444444444444,
                            "#bd3786"
                          ],
                          [
                            0.5555555555555556,
                            "#d8576b"
                          ],
                          [
                            0.6666666666666666,
                            "#ed7953"
                          ],
                          [
                            0.7777777777777778,
                            "#fb9f3a"
                          ],
                          [
                            0.8888888888888888,
                            "#fdca26"
                          ],
                          [
                            1,
                            "#f0f921"
                          ]
                        ],
                        "type": "heatmap"
                      }
                    ],
                    "histogram": [
                      {
                        "marker": {
                          "pattern": {
                            "fillmode": "overlay",
                            "size": 10,
                            "solidity": 0.2
                          }
                        },
                        "type": "histogram"
                      }
                    ],
                    "histogram2d": [
                      {
                        "colorbar": {
                          "outlinewidth": 0,
                          "ticks": ""
                        },
                        "colorscale": [
                          [
                            0,
                            "#0d0887"
                          ],
                          [
                            0.1111111111111111,
                            "#46039f"
                          ],
                          [
                            0.2222222222222222,
                            "#7201a8"
                          ],
                          [
                            0.3333333333333333,
                            "#9c179e"
                          ],
                          [
                            0.4444444444444444,
                            "#bd3786"
                          ],
                          [
                            0.5555555555555556,
                            "#d8576b"
                          ],
                          [
                            0.6666666666666666,
                            "#ed7953"
                          ],
                          [
                            0.7777777777777778,
                            "#fb9f3a"
                          ],
                          [
                            0.8888888888888888,
                            "#fdca26"
                          ],
                          [
                            1,
                            "#f0f921"
                          ]
                        ],
                        "type": "histogram2d"
                      }
                    ],
                    "histogram2dcontour": [
                      {
                        "colorbar": {
                          "outlinewidth": 0,
                          "ticks": ""
                        },
                        "colorscale": [
                          [
                            0,
                            "#0d0887"
                          ],
                          [
                            0.1111111111111111,
                            "#46039f"
                          ],
                          [
                            0.2222222222222222,
                            "#7201a8"
                          ],
                          [
                            0.3333333333333333,
                            "#9c179e"
                          ],
                          [
                            0.4444444444444444,
                            "#bd3786"
                          ],
                          [
                            0.5555555555555556,
                            "#d8576b"
                          ],
                          [
                            0.6666666666666666,
                            "#ed7953"
                          ],
                          [
                            0.7777777777777778,
                            "#fb9f3a"
                          ],
                          [
                            0.8888888888888888,
                            "#fdca26"
                          ],
                          [
                            1,
                            "#f0f921"
                          ]
                        ],
                        "type": "histogram2dcontour"
                      }
                    ],
                    "mesh3d": [
                      {
                        "colorbar": {
                          "outlinewidth": 0,
                          "ticks": ""
                        },
                        "type": "mesh3d"
                      }
                    ],
                    "parcoords": [
                      {
                        "line": {
                          "colorbar": {
                            "outlinewidth": 0,
                            "ticks": ""
                          }
                        },
                        "type": "parcoords"
                      }
                    ],
                    "pie": [
                      {
                        "automargin": true,
                        "type": "pie"
                      }
                    ],
                    "scatter": [
                      {
                        "marker": {
                          "line": {
                            "color": "#283442"
                          }
                        },
                        "type": "scatter"
                      }
                    ],
                    "scatter3d": [
                      {
                        "line": {
                          "colorbar": {
                            "outlinewidth": 0,
                            "ticks": ""
                          }
                        },
                        "marker": {
                          "colorbar": {
                            "outlinewidth": 0,
                            "ticks": ""
                          }
                        },
                        "type": "scatter3d"
                      }
                    ],
                    "scattercarpet": [
                      {
                        "marker": {
                          "colorbar": {
                            "outlinewidth": 0,
                            "ticks": ""
                          }
                        },
                        "type": "scattercarpet"
                      }
                    ],
                    "scattergeo": [
                      {
                        "marker": {
                          "colorbar": {
                            "outlinewidth": 0,
                            "ticks": ""
                          }
                        },
                        "type": "scattergeo"
                      }
                    ],
                    "scattergl": [
                      {
                        "marker": {
                          "line": {
                            "color": "#283442"
                          }
                        },
                        "type": "scattergl"
                      }
                    ],
                    "scattermap": [
                      {
                        "marker": {
                          "colorbar": {
                            "outlinewidth": 0,
                            "ticks": ""
                          }
                        },
                        "type": "scattermap"
                      }
                    ],
                    "scattermapbox": [
                      {
                        "marker": {
                          "colorbar": {
                            "outlinewidth": 0,
                            "ticks": ""
                          }
                        },
                        "type": "scattermapbox"
                      }
                    ],
                    "scatterpolar": [
                      {
                        "marker": {
                          "colorbar": {
                            "outlinewidth": 0,
                            "ticks": ""
                          }
                        },
                        "type": "scatterpolar"
                      }
                    ],
                    "scatterpolargl": [
                      {
                        "marker": {
                          "colorbar": {
                            "outlinewidth": 0,
                            "ticks": ""
                          }
                        },
                        "type": "scatterpolargl"
                      }
                    ],
                    "scatterternary": [
                      {
                        "marker": {
                          "colorbar": {
                            "outlinewidth": 0,
                            "ticks": ""
                          }
                        },
                        "type": "scatterternary"
                      }
                    ],
                    "surface": [
                      {
                        "colorbar": {
                          "outlinewidth": 0,
                          "ticks": ""
                        },
                        "colorscale": [
                          [
                            0,
                            "#0d0887"
                          ],
                          [
                            0.1111111111111111,
                            "#46039f"
                          ],
                          [
                            0.2222222222222222,
                            "#7201a8"
                          ],
                          [
                            0.3333333333333333,
                            "#9c179e"
                          ],
                          [
                            0.4444444444444444,
                            "#bd3786"
                          ],
                          [
                            0.5555555555555556,
                            "#d8576b"
                          ],
                          [
                            0.6666666666666666,
                            "#ed7953"
                          ],
                          [
                            0.7777777777777778,
                            "#fb9f3a"
                          ],
                          [
                            0.8888888888888888,
                            "#fdca26"
                          ],
                          [
                            1,
                            "#f0f921"
                          ]
                        ],
                        "type": "surface"
                      }
                    ],
                    "table": [
                      {
                        "cells": {
                          "fill": {
                            "color": "#506784"
                          },
                          "line": {
                            "color": "rgb(17,17,17)"
                          }
                        },
                        "header": {
                          "fill": {
                            "color": "#2a3f5f"
                          },
                          "line": {
                            "color": "rgb(17,17,17)"
                          }
                        },
                        "type": "table"
                      }
                    ]
                  },
                  "layout": {
                    "annotationdefaults": {
                      "arrowcolor": "#f2f5fa",
                      "arrowhead": 0,
                      "arrowwidth": 1
                    },
                    "autotypenumbers": "strict",
                    "coloraxis": {
                      "colorbar": {
                        "outlinewidth": 0,
                        "ticks": ""
                      }
                    },
                    "colorscale": {
                      "diverging": [
                        [
                          0,
                          "#8e0152"
                        ],
                        [
                          0.1,
                          "#c51b7d"
                        ],
                        [
                          0.2,
                          "#de77ae"
                        ],
                        [
                          0.3,
                          "#f1b6da"
                        ],
                        [
                          0.4,
                          "#fde0ef"
                        ],
                        [
                          0.5,
                          "#f7f7f7"
                        ],
                        [
                          0.6,
                          "#e6f5d0"
                        ],
                        [
                          0.7,
                          "#b8e186"
                        ],
                        [
                          0.8,
                          "#7fbc41"
                        ],
                        [
                          0.9,
                          "#4d9221"
                        ],
                        [
                          1,
                          "#276419"
                        ]
                      ],
                      "sequential": [
                        [
                          0,
                          "#0d0887"
                        ],
                        [
                          0.1111111111111111,
                          "#46039f"
                        ],
                        [
                          0.2222222222222222,
                          "#7201a8"
                        ],
                        [
                          0.3333333333333333,
                          "#9c179e"
                        ],
                        [
                          0.4444444444444444,
                          "#bd3786"
                        ],
                        [
                          0.5555555555555556,
                          "#d8576b"
                        ],
                        [
                          0.6666666666666666,
                          "#ed7953"
                        ],
                        [
                          0.7777777777777778,
                          "#fb9f3a"
                        ],
                        [
                          0.8888888888888888,
                          "#fdca26"
                        ],
                        [
                          1,
                          "#f0f921"
                        ]
                      ],
                      "sequentialminus": [
                        [
                          0,
                          "#0d0887"
                        ],
                        [
                          0.1111111111111111,
                          "#46039f"
                        ],
                        [
                          0.2222222222222222,
                          "#7201a8"
                        ],
                        [
                          0.3333333333333333,
                          "#9c179e"
                        ],
                        [
                          0.4444444444444444,
                          "#bd3786"
                        ],
                        [
                          0.5555555555555556,
                          "#d8576b"
                        ],
                        [
                          0.6666666666666666,
                          "#ed7953"
                        ],
                        [
                          0.7777777777777778,
                          "#fb9f3a"
                        ],
                        [
                          0.8888888888888888,
                          "#fdca26"
                        ],
                        [
                          1,
                          "#f0f921"
                        ]
                      ]
                    },
                    "colorway": [
                      "#636efa",
                      "#EF553B",
                      "#00cc96",
                      "#ab63fa",
                      "#FFA15A",
                      "#19d3f3",
                      "#FF6692",
                      "#B6E880",
                      "#FF97FF",
                      "#FECB52"
                    ],
                    "font": {
                      "color": "#f2f5fa"
                    },
                    "geo": {
                      "bgcolor": "rgb(17,17,17)",
                      "lakecolor": "rgb(17,17,17)",
                      "landcolor": "rgb(17,17,17)",
                      "showlakes": true,
                      "showland": true,
                      "subunitcolor": "#506784"
                    },
                    "hoverlabel": {
                      "align": "left"
                    },
                    "hovermode": "closest",
                    "mapbox": {
                      "style": "dark"
                    },
                    "paper_bgcolor": "rgb(17,17,17)",
                    "plot_bgcolor": "rgb(17,17,17)",
                    "polar": {
                      "angularaxis": {
                        "gridcolor": "#506784",
                        "linecolor": "#506784",
                        "ticks": ""
                      },
                      "bgcolor": "rgb(17,17,17)",
                      "radialaxis": {
                        "gridcolor": "#506784",
                        "linecolor": "#506784",
                        "ticks": ""
                      }
                    },
                    "scene": {
                      "xaxis": {
                        "backgroundcolor": "rgb(17,17,17)",
                        "gridcolor": "#506784",
                        "gridwidth": 2,
                        "linecolor": "#506784",
                        "showbackground": true,
                        "ticks": "",
                        "zerolinecolor": "#C8D4E3"
                      },
                      "yaxis": {
                        "backgroundcolor": "rgb(17,17,17)",
                        "gridcolor": "#506784",
                        "gridwidth": 2,
                        "linecolor": "#506784",
                        "showbackground": true,
                        "ticks": "",
                        "zerolinecolor": "#C8D4E3"
                      },
                      "zaxis": {
                        "backgroundcolor": "rgb(17,17,17)",
                        "gridcolor": "#506784",
                        "gridwidth": 2,
                        "linecolor": "#506784",
                        "showbackground": true,
                        "ticks": "",
                        "zerolinecolor": "#C8D4E3"
                      }
                    },
                    "shapedefaults": {
                      "line": {
                        "color": "#f2f5fa"
                      }
                    },
                    "sliderdefaults": {
                      "bgcolor": "#C8D4E3",
                      "bordercolor": "rgb(17,17,17)",
                      "borderwidth": 1,
                      "tickwidth": 0
                    },
                    "ternary": {
                      "aaxis": {
                        "gridcolor": "#506784",
                        "linecolor": "#506784",
                        "ticks": ""
                      },
                      "baxis": {
                        "gridcolor": "#506784",
                        "linecolor": "#506784",
                        "ticks": ""
                      },
                      "bgcolor": "rgb(17,17,17)",
                      "caxis": {
                        "gridcolor": "#506784",
                        "linecolor": "#506784",
                        "ticks": ""
                      }
                    },
                    "title": {
                      "x": 0.05
                    },
                    "updatemenudefaults": {
                      "bgcolor": "#506784",
                      "borderwidth": 0
                    },
                    "xaxis": {
                      "automargin": true,
                      "gridcolor": "#283442",
                      "linecolor": "#506784",
                      "ticks": "",
                      "title": {
                        "standoff": 15
                      },
                      "zerolinecolor": "#283442",
                      "zerolinewidth": 2
                    },
                    "yaxis": {
                      "automargin": true,
                      "gridcolor": "#283442",
                      "linecolor": "#506784",
                      "ticks": "",
                      "title": {
                        "standoff": 15
                      },
                      "zerolinecolor": "#283442",
                      "zerolinewidth": 2
                    }
                  }
                },
                "title": {
                  "text": "Glucose vs Insulin"
                },
                "xaxis": {
                  "anchor": "y",
                  "domain": [
                    0,
                    1
                  ],
                  "title": {
                    "text": "Glucose"
                  }
                },
                "yaxis": {
                  "anchor": "x",
                  "domain": [
                    0,
                    1
                  ],
                  "title": {
                    "text": "Insulin"
                  }
                }
              }
            }
          },
          "metadata": {},
          "output_type": "display_data"
        }
      ],
      "source": [
        "fig = px.scatter(df,x = \"Glucose\", y = \"Insulin\", title = \"Glucose vs Insulin\", template = \"plotly_dark\", color = \"Outcome\")\n",
        "fig.show()"
      ]
    },
    {
      "cell_type": "code",
      "execution_count": 32,
      "metadata": {
        "colab": {
          "base_uri": "https://localhost:8080/",
          "height": 470
        },
        "id": "X2NbUDtb14jS",
        "outputId": "4dcad40c-1b0f-42ba-9917-43e81b453997"
      },
      "outputs": [
        {
          "data": {
            "text/plain": [
              "<Axes: xlabel='Pregnancies'>"
            ]
          },
          "execution_count": 32,
          "metadata": {},
          "output_type": "execute_result"
        },
        {
          "data": {
            "image/png": "[encoded data removed]",
            "text/plain": [
              "<Figure size 640x480 with 1 Axes>"
            ]
          },
          "metadata": {},
          "output_type": "display_data"
        }
      ],
      "source": [
        "df['Pregnancies'].value_counts().plot.bar()"
      ]
    },
    {
      "cell_type": "code",
      "execution_count": 33,
      "metadata": {
        "colab": {
          "base_uri": "https://localhost:8080/",
          "height": 740
        },
        "id": "UH7buZyO4lmL",
        "outputId": "ff9978de-d556-41bd-84c8-adb77d5b00a8"
      },
      "outputs": [
        {
          "data": {
            "image/png": "[encoded data removed]",
            "text/plain": [
              "<Figure size 1800x1000 with 9 Axes>"
            ]
          },
          "metadata": {},
          "output_type": "display_data"
        }
      ],
      "source": [
        "plt.figure(figsize=(18,10))\n",
        "for i in range(9):\n",
        "    plt.subplot(3,3,i+1)\n",
        "    df[df['Pregnancies']==i+1].Outcome.value_counts().plot.pie(autopct='%1.1f%%')\n",
        "    plt.title(f\"Pregnancies = {i+1}\")\n"
      ]
    },
    {
      "cell_type": "markdown",
      "metadata": {
        "id": "nwxPU2M_5HLZ"
      },
      "source": [
        "#classifications\n"
      ]
    },
    {
      "cell_type": "markdown",
      "metadata": {
        "id": "ux7lYXur5QPA"
      },
      "source": [
        "##SVM"
      ]
    },
    {
      "cell_type": "code",
      "execution_count": 34,
      "metadata": {
        "colab": {
          "base_uri": "https://localhost:8080/"
        },
        "id": "1VN_EpyH5U9X",
        "outputId": "3b833714-19d0-427d-ded8-5825197dae84"
      },
      "outputs": [
        {
          "name": "stdout",
          "output_type": "stream",
          "text": [
            "accuracy of SVM :  0.7662337662337663\n"
          ]
        },
        {
          "name": "stderr",
          "output_type": "stream",
          "text": [
            "C:\\Users\\Tanish\\AppData\\Local\\Temp\\ipykernel_21512\\970270249.py:4: FutureWarning:\n",
            "\n",
            "Setting an item of incompatible dtype is deprecated and will raise in a future error of pandas. Value '[ 2.86301193  0.25045508  0.25045508 -0.40268414  0.90359429 -1.05582335\n",
            " -0.72925374  1.5567335   1.88330311 -0.72925374  0.25045508 -1.05582335\n",
            " -0.72925374 -0.07611453 -0.72925374 -1.05582335 -0.07611453 -0.72925374\n",
            "  1.2301639  -0.72925374 -0.40268414 -1.05582335  2.86301193  2.53644232\n",
            " -1.05582335 -1.05582335 -1.05582335 -1.05582335  0.25045508  1.88330311\n",
            " -0.07611453 -1.05582335 -1.05582335  0.25045508  0.90359429 -1.05582335\n",
            " -0.72925374 -0.72925374 -0.72925374 -0.72925374  0.25045508 -0.72925374\n",
            " -0.40268414  0.57702468  1.88330311 -0.07611453  2.20987271 -0.40268414\n",
            " -0.40268414  1.88330311 -1.05582335  0.25045508 -0.72925374 -1.05582335\n",
            " -0.07611453  0.25045508 -0.07611453 -1.05582335 -1.05582335  0.90359429\n",
            "  0.25045508 -0.72925374  0.90359429 -1.05582335 -0.72925374 -0.72925374\n",
            "  2.86301193 -0.72925374 -1.05582335 -1.05582335 -0.07611453  0.90359429\n",
            " -0.72925374  0.57702468 -0.07611453  0.57702468 -0.72925374 -0.40268414\n",
            "  0.25045508 -0.72925374 -0.72925374 -0.72925374 -0.72925374 -1.05582335\n",
            "  0.57702468 -1.05582335 -0.72925374 -1.05582335 -0.72925374 -1.05582335\n",
            " -1.05582335 -0.07611453 -0.40268414 -0.40268414 -0.72925374  0.90359429\n",
            " -0.07611453  0.25045508 -0.07611453 -0.07611453  0.57702468 -0.72925374\n",
            "  0.25045508 -0.40268414 -1.05582335 -1.05582335  1.2301639  -0.72925374\n",
            " -0.72925374 -0.72925374 -0.07611453 -0.07611453 -0.72925374  0.25045508\n",
            " -0.72925374 -0.40268414 -1.05582335  1.2301639  -0.72925374 -0.72925374\n",
            " -0.72925374 -0.72925374 -0.72925374  0.25045508 -0.40268414  0.25045508\n",
            " -0.72925374 -1.05582335  1.5567335  -0.72925374  0.25045508 -0.72925374\n",
            " -1.05582335 -0.07611453 -1.05582335 -0.72925374 -1.05582335 -0.72925374\n",
            "  1.88330311 -0.40268414  1.2301639  -0.72925374 -0.72925374 -0.72925374\n",
            "  1.5567335   0.57702468 -1.05582335 -0.07611453  0.90359429 -0.72925374\n",
            " -0.72925374 -0.40268414 -0.07611453 -0.07611453 -0.40268414 -0.72925374\n",
            " -1.05582335 -0.72925374 -0.07611453 -0.72925374 -1.05582335  0.57702468\n",
            "  0.25045508  0.57702468 -0.72925374 -1.05582335  0.25045508 -0.07611453\n",
            " -0.40268414  1.5567335  -0.72925374 -1.05582335  2.20987271  1.88330311\n",
            " -1.05582335  0.57702468 -0.72925374 -1.05582335 -0.72925374 -0.72925374\n",
            "  0.57702468  0.25045508 -0.72925374 -0.07611453 -0.07611453 -0.40268414\n",
            " -0.72925374 -0.72925374 -1.05582335 -1.05582335  0.25045508 -0.72925374\n",
            " -0.72925374 -0.72925374 -1.05582335  1.88330311  0.25045508 -0.72925374\n",
            " -1.05582335 -1.05582335 -0.72925374 -0.72925374  0.90359429  0.57702468\n",
            "  0.90359429  0.90359429  1.2301639  -1.05582335 -0.72925374 -1.05582335\n",
            " -1.05582335 -0.72925374 -0.07611453 -0.72925374 -1.05582335 -0.07611453\n",
            " -0.40268414 -0.72925374 -0.72925374 -0.07611453 -0.72925374 -0.72925374\n",
            "  0.25045508 -0.07611453  1.5567335  -1.05582335  1.5567335  -0.72925374\n",
            " -0.72925374 -0.72925374 -0.72925374 -1.05582335 -0.40268414  0.57702468\n",
            " -0.40268414  0.57702468 -0.72925374 -0.72925374 -0.72925374  0.57702468\n",
            " -1.05582335 -0.40268414 -0.72925374 -1.05582335 -0.40268414 -0.07611453\n",
            " -0.40268414  0.25045508 -0.72925374 -0.72925374 -0.72925374 -1.05582335\n",
            " -0.07611453 -0.72925374  1.88330311 -0.72925374 -0.72925374  0.25045508\n",
            " -0.72925374  1.88330311  0.90359429  0.90359429  0.25045508 -0.72925374\n",
            "  0.57702468 -0.72925374 -1.05582335 -1.05582335 -1.05582335  0.57702468\n",
            " -1.05582335 -1.05582335 -1.05582335  0.57702468 -0.72925374 -0.72925374\n",
            " -0.07611453  0.25045508 -0.72925374 -0.72925374  0.57702468 -0.72925374\n",
            "  1.2301639   0.25045508 -0.40268414 -1.05582335  2.86301193 -0.72925374\n",
            " -1.05582335 -1.05582335 -0.40268414 -0.72925374 -0.72925374  0.57702468\n",
            " -0.72925374 -0.40268414 -0.72925374 -0.40268414 -0.40268414  0.57702468\n",
            "  1.88330311  0.57702468  2.53644232  1.2301639   1.2301639  -0.72925374\n",
            "  2.53644232 -1.05582335 -0.72925374 -1.05582335  0.57702468 -0.72925374\n",
            " -0.72925374 -1.05582335  0.57702468 -0.07611453 -0.40268414 -0.72925374\n",
            " -0.40268414 -0.72925374 -1.05582335 -1.05582335 -1.05582335  0.25045508\n",
            "  1.2301639   1.2301639  -1.05582335 -0.40268414 -0.40268414 -0.07611453\n",
            " -0.07611453 -0.07611453 -0.72925374 -1.05582335  1.88330311  0.57702468\n",
            " -1.05582335  0.90359429 -1.05582335  1.2301639   2.20987271  2.20987271\n",
            " -0.40268414 -1.05582335 -0.40268414  2.53644232  0.25045508  0.25045508\n",
            " -0.07611453  0.25045508 -0.72925374 -0.72925374 -0.72925374 -0.72925374\n",
            " -1.05582335 -0.72925374 -1.05582335 -0.72925374 -1.05582335 -1.05582335\n",
            " -1.05582335 -0.07611453 -1.05582335 -0.07611453 -1.05582335 -0.40268414\n",
            "  0.57702468 -1.05582335 -0.72925374 -0.72925374 -0.07611453 -1.05582335\n",
            " -1.05582335 -0.40268414 -1.05582335 -1.05582335 -0.07611453 -0.72925374\n",
            " -0.40268414 -0.40268414 -0.40268414 -0.72925374 -0.72925374 -0.72925374\n",
            "  0.57702468  1.5567335  -0.72925374 -0.72925374  0.57702468 -1.05582335\n",
            " -1.05582335 -1.05582335 -0.72925374 -0.72925374 -0.72925374 -0.72925374\n",
            " -1.05582335  0.57702468 -1.05582335 -0.72925374 -0.40268414  0.57702468\n",
            " -0.40268414 -0.40268414 -1.05582335 -0.40268414 -1.05582335 -1.05582335\n",
            " -1.05582335 -0.72925374 -0.72925374 -0.72925374 -0.72925374 -0.72925374\n",
            " -0.72925374 -0.40268414 -1.05582335  2.53644232  0.25045508 -1.05582335\n",
            "  0.57702468 -0.72925374 -0.07611453 -1.05582335 -0.72925374  1.5567335\n",
            " -0.72925374 -0.40268414  0.90359429  2.86301193  0.57702468 -0.72925374\n",
            "  1.2301639  -0.72925374 -0.72925374 -1.05582335 -0.72925374 -0.72925374\n",
            " -0.72925374 -1.05582335  0.25045508  1.5567335   1.5567335  -1.05582335\n",
            "  1.2301639   0.25045508 -1.05582335 -0.72925374  0.90359429 -0.07611453\n",
            " -0.72925374  0.90359429  1.2301639  -0.07611453  0.25045508 -0.72925374\n",
            "  0.57702468 -0.72925374 -0.40268414  0.90359429 -0.40268414  1.88330311\n",
            " -1.05582335 -0.72925374 -0.72925374 -0.07611453  1.2301639  -0.72925374\n",
            " -0.72925374 -0.07611453 -0.40268414  0.57702468  1.88330311 -0.72925374\n",
            " -0.72925374 -0.72925374  0.57702468 -1.05582335 -0.72925374 -0.72925374\n",
            "  0.90359429  0.90359429  0.90359429 -1.05582335 -0.72925374 -0.07611453\n",
            " -1.05582335  0.25045508 -1.05582335 -0.07611453 -1.05582335 -0.72925374\n",
            " -0.72925374 -0.72925374 -0.72925374 -0.72925374  1.2301639  -0.40268414\n",
            " -1.05582335  1.88330311 -0.07611453  0.90359429 -1.05582335  0.90359429\n",
            "  1.5567335   2.20987271  1.88330311  0.90359429 -0.40268414 -0.07611453\n",
            "  1.2301639  -1.05582335 -0.07611453  0.57702468  1.5567335  -1.05582335\n",
            " -0.40268414 -0.07611453 -0.07611453 -0.07611453  1.2301639  -0.72925374\n",
            "  0.90359429  0.57702468 -0.07611453  2.53644232 -0.07611453 -0.72925374\n",
            "  3.18958153  1.88330311 -0.07611453 -0.07611453  1.2301639  -0.07611453\n",
            " -0.07611453 -0.40268414  1.5567335   1.5567335  -0.07611453 -0.40268414\n",
            "  1.2301639  -0.07611453 -1.05582335 -1.05582335 -0.07611453  0.25045508\n",
            "  0.25045508 -0.07611453  1.2301639  -1.05582335 -0.07611453 -0.40268414\n",
            " -0.07611453 -0.40268414  1.2301639  -0.40268414  1.88330311  0.25045508\n",
            "  1.2301639   0.25045508  0.25045508 -0.07611453 -0.07611453 -0.40268414\n",
            " -1.05582335 -0.40268414  2.53644232 -0.07611453  1.2301639   0.25045508\n",
            "  1.5567335  -1.05582335  2.86301193 -1.05582335  0.25045508 -0.07611453\n",
            "  0.57702468  0.25045508  1.5567335   0.90359429  0.25045508 -0.40268414\n",
            " -0.07611453  2.86301193 -1.05582335 -0.72925374 -1.05582335  0.57702468\n",
            " -0.07611453 -0.07611453  1.88330311 -0.07611453 -0.72925374 -0.72925374\n",
            "  0.90359429 -0.40268414  0.57702468 -0.72925374 -0.72925374 -0.07611453\n",
            "  1.2301639   1.2301639  -0.40268414  2.20987271 -0.07611453 -0.72925374\n",
            " -1.05582335 -0.72925374  3.18958153 -0.07611453 -0.72925374  0.25045508\n",
            "  0.90359429 -0.07611453  0.90359429 -0.72925374 -1.05582335 -0.40268414\n",
            " -0.07611453 -1.05582335  0.90359429 -0.07611453 -1.05582335  2.20987271\n",
            " -0.40268414 -0.07611453 -0.07611453 -0.72925374  1.88330311 -0.40268414\n",
            "  0.57702468  1.5567335   2.53644232 -1.05582335 -0.40268414  0.90359429\n",
            "  2.20987271  1.5567335  -0.07611453 -0.40268414 -0.07611453  0.57702468\n",
            " -0.07611453  0.90359429 -0.07611453  1.5567335   0.90359429  2.86301193\n",
            "  0.90359429  0.90359429 -0.07611453  1.5567335   2.53644232  0.25045508\n",
            "  0.25045508  0.25045508 -0.07611453 -0.72925374  0.90359429  2.20987271\n",
            "  0.25045508 -0.40268414 -0.07611453 -0.07611453  1.2301639   0.25045508\n",
            "  0.57702468 -1.05582335 -0.07611453  2.20987271 -0.72925374 -0.07611453\n",
            "  0.25045508  0.90359429  1.2301639  -1.05582335  1.2301639   0.25045508\n",
            " -0.40268414 -1.05582335  1.2301639   1.5567335   0.57702468 -0.07611453\n",
            "  1.88330311 -0.07611453  0.57702468  0.57702468  0.57702468  1.2301639\n",
            "  1.5567335   1.2301639   0.90359429  4.16929035  0.57702468  1.5567335\n",
            " -0.40268414 -0.07611453 -0.07611453 -1.05582335 -0.07611453 -0.07611453\n",
            "  1.5567335  -0.40268414  1.88330311  0.90359429 -0.07611453  0.25045508\n",
            " -0.07611453 -0.07611453 -1.05582335 -1.05582335  2.86301193  0.90359429\n",
            "  0.90359429 -0.40268414  0.57702468 -1.05582335 -1.05582335 -1.05582335\n",
            " -0.07611453 -0.40268414  1.2301639   0.25045508  3.51615114 -0.07611453\n",
            "  1.88330311  1.5567335  -0.72925374  1.88330311  0.90359429 -0.40268414\n",
            "  0.25045508  0.90359429 -0.07611453 -0.72925374  2.86301193 -0.07611453\n",
            "  0.90359429  1.2301639   0.90359429  1.2301639   1.5567335  -0.72925374\n",
            " -0.07611453  1.5567335  -0.07611453 -1.05582335 -0.40268414  1.2301639\n",
            " -0.72925374 -1.05582335  2.20987271  1.5567335  -1.05582335 -0.40268414\n",
            "  0.57702468 -0.07611453  0.57702468  1.2301639  -0.07611453 -0.40268414\n",
            " -0.72925374  1.2301639   1.88330311 -1.05582335  0.25045508  0.90359429]' has dtype incompatible with int64, please explicitly cast to a compatible dtype first.\n",
            "\n",
            "C:\\Users\\Tanish\\AppData\\Local\\Temp\\ipykernel_21512\\970270249.py:4: FutureWarning:\n",
            "\n",
            "Setting an item of incompatible dtype is deprecated and will raise in a future error of pandas. Value '[ 0.76608432 -0.15362745 -0.41640224 -0.44924909  0.50330953 -0.51494279\n",
            " -1.10618607 -1.07333922 -0.67917703  0.01060679 -0.02224005 -0.94195182\n",
            "  0.04345364 -1.20472661 -1.23757346  0.56900323 -0.87625812  0.14199419\n",
            " -1.86166359 -0.74487073 -0.64633018 -0.41640224  1.02885911 -0.71202388\n",
            " -1.33611401 -0.02224005 -1.20472661 -1.07333922 -0.1864743  -0.21932115\n",
            " -0.38355539 -0.81056443 -0.67917703 -1.10618607  0.93031856 -1.5988888\n",
            " -0.71202388  0.79893117 -0.54778964 -1.23757346 -2.55144742  0.63469692\n",
            " -1.10618607 -0.97479867  0.01060679 -0.61348333  0.53615638  1.91572403\n",
            " -0.64633018 -0.90910497 -0.44924909 -0.74487073 -0.41640224 -0.87625812\n",
            "  0.79893117  0.56900323  0.24053474 -1.40180771 -0.48209594 -1.96020414\n",
            " -0.87625812 -0.31786169 -0.54778964 -0.61348333 -0.67917703 -0.38355539\n",
            " -0.51494279 -0.71202388 -0.48209594 -1.36896086  0.04345364 -1.33611401\n",
            "  0.66754377  0.73323747 -0.38355539 -1.36896086  0.17484104  1.19309335\n",
            "  0.14199419  0.40476898  0.01060679  0.24053474 -0.97479867 -1.6645825\n",
            " -0.94195182  0.96316541  0.10914734 -1.33611401 -1.20472661  0.14199419\n",
            " -0.84341128  0.73323747 -1.27042031 -0.28501484 -1.56604195 -1.27042031\n",
            " -1.50034825 -1.43465455 -0.81056443 -0.74487073 -0.35070854 -0.48209594\n",
            "  0.33907528 -0.0550869  -0.1207806   0.60185007 -0.48209594 -0.02224005\n",
            " -1.04049237 -0.74487073  0.17484104 -0.1207806  -0.87625812  0.47046268\n",
            "  0.24053474  0.27338159 -0.48209594 -1.23757346 -0.84341128  0.10914734\n",
            " -0.71202388 -0.94195182  0.24053474 -0.54778964  0.20768789 -0.51494279\n",
            " -0.44924909 -1.07333922 -2.12443838 -0.51494279  0.83177802 -1.04049237\n",
            "  0.47046268 -0.252168    1.02885911 -0.74487073 -0.41640224 -1.10618607\n",
            " -1.76312304  0.04345364 -1.00764552 -0.94195182 -0.67917703 -2.15728523\n",
            "  1.06170596  1.4230213  -0.74487073  0.96316541 -0.64633018 -0.252168\n",
            " -0.71202388  0.86462486 -0.0550869  -0.38355539 -0.35070854 -1.13903291\n",
            " -1.40180771 -1.5331951   1.06170596 -0.64633018 -0.51494279 -1.20472661\n",
            "  0.70039062 -1.13903291 -0.08793375 -0.48209594 -1.5988888   0.63469692\n",
            " -0.35070854  0.04345364 -0.67917703 -0.0550869   0.17484104  1.32448075\n",
            " -0.31786169 -0.77771758 -0.28501484  0.53615638 -0.44924909 -0.74487073\n",
            " -0.61348333 -0.35070854 -0.64633018  0.20768789 -1.04049237 -0.61348333\n",
            "  1.1602465  -0.48209594 -1.00764552 -0.15362745  0.04345364 -0.0550869\n",
            " -0.64633018 -0.35070854  0.20768789 -0.97479867 -0.58063648 -0.90910497\n",
            " -0.71202388 -0.84341128 -1.33611401  0.83177802  1.88287718  0.10914734\n",
            " -0.08793375  0.66754377 -1.20472661 -0.54778964 -0.90910497 -0.71202388\n",
            " -1.13903291 -0.67917703  2.47412046 -0.15362745 -1.40180771  0.01060679\n",
            " -1.56604195 -0.58063648 -0.44924909 -1.04049237  0.10914734  0.33907528\n",
            "  0.20768789 -0.90910497  0.07630049 -0.35070854 -0.51494279  0.24053474\n",
            " -1.04049237 -1.17187976  0.99601226 -0.35070854 -0.51494279 -0.54778964\n",
            " -0.51494279 -0.15362745 -1.76312304 -0.31786169 -0.97479867  2.01426457\n",
            " -0.97479867 -0.35070854 -0.252168    2.34273306  2.27703937 -0.87625812\n",
            "  0.66754377 -0.84341128  0.20768789 -0.64633018 -0.44924909 -1.00764552\n",
            " -1.00764552  0.79893117  0.01060679  1.4230213  -0.58063648 -0.252168\n",
            " -0.44924909  0.24053474  0.37192213  0.47046268  1.09455281 -1.30326716\n",
            "  0.04345364 -1.79596989 -1.07333922 -0.41640224 -0.44924909 -0.84341128\n",
            "  0.07630049  0.07630049 -0.94195182 -0.61348333 -1.5988888  -0.31786169\n",
            " -0.84341128 -0.44924909 -1.43465455  1.2916339   0.96316541  0.14199419\n",
            " -0.31786169 -1.4675014   0.01060679 -1.6645825  -0.51494279 -0.71202388\n",
            "  0.70039062 -0.08793375  0.93031856 -0.0550869   0.50330953 -1.36896086\n",
            " -0.51494279 -0.28501484 -0.31786169 -0.74487073 -0.21932115 -0.44924909\n",
            "  0.37192213 -0.41640224 -0.02224005 -0.71202388 -0.1207806  -1.13903291\n",
            " -0.51494279 -0.87625812  1.4230213  -1.13903291 -0.74487073 -1.00764552\n",
            " -0.87625812 -0.74487073 -0.97479867  1.06170596 -1.43465455  0.27338159\n",
            " -0.35070854 -0.77771758  0.27338159 -0.87625812 -0.48209594  0.01060679\n",
            " -0.87625812  0.14199419  0.56900323 -0.1864743  -0.74487073 -0.97479867\n",
            "  0.50330953  0.24053474 -0.31786169  1.1602465   1.88287718 -0.54778964\n",
            " -1.23757346  0.07630049 -0.81056443 -0.38355539 -0.61348333 -1.20472661\n",
            " -1.99305098 -1.04049237 -1.04049237 -1.10618607  1.19309335 -0.61348333\n",
            "  0.83177802 -0.74487073 -0.67917703 -0.15362745  0.01060679 -0.77771758\n",
            " -1.13903291 -0.94195182 -0.48209594 -0.54778964 -0.41640224 -1.04049237\n",
            " -1.10618607  0.30622843  1.39017445  2.21134567 -0.1864743  -1.23757346\n",
            " -0.252168   -1.10618607 -2.12443838  0.17484104 -1.23757346  0.10914734\n",
            " -0.08793375 -0.71202388 -0.71202388  0.30622843 -0.1864743   0.17484104\n",
            " -0.84341128 -1.30326716 -1.33611401 -0.1207806  -1.23757346 -0.54778964\n",
            "  0.50330953 -1.63173565  0.04345364 -0.67917703 -0.64633018 -0.31786169\n",
            "  0.70039062  0.70039062 -0.15362745 -0.35070854  0.01060679 -0.48209594\n",
            " -1.17187976 -1.00764552 -1.4675014  -0.54778964  0.07630049 -0.252168\n",
            "  0.10914734 -1.13903291 -0.81056443 -0.1864743  -0.81056443 -1.27042031\n",
            " -0.08793375 -0.90910497 -0.64633018 -0.21932115 -0.90910497  0.43761583\n",
            " -0.74487073 -1.07333922 -1.04049237  0.60185007  0.83177802 -0.81056443\n",
            " -0.48209594 -1.27042031 -0.15362745 -0.71202388 -0.87625812 -1.00764552\n",
            " -1.00764552 -0.74487073  0.10914734 -1.50034825  0.24053474 -1.76312304\n",
            " -0.0550869   0.56900323 -0.0550869  -1.30326716 -1.00764552 -0.08793375\n",
            " -0.71202388  0.43761583 -1.17187976  0.40476898 -0.0550869  -1.6645825\n",
            " -1.56604195 -1.10618607 -1.36896086  0.56900323  0.47046268 -0.252168\n",
            "  0.50330953 -0.252168    0.14199419  0.33907528 -0.38355539 -1.33611401\n",
            "  1.06170596 -0.15362745 -1.23757346 -0.90910497 -0.84341128 -1.5331951\n",
            "  0.27338159 -1.23757346  1.68579609 -0.74487073  2.37557991 -1.27042031\n",
            " -1.07333922 -0.74487073 -1.36896086  1.45586814 -0.21932115  0.07630049\n",
            " -1.56604195 -0.81056443  1.06170596  0.73323747  0.50330953 -0.08793375\n",
            "  0.37192213 -0.51494279  1.2259402   0.79893117 -1.6645825  -1.27042031\n",
            " -0.252168   -0.15362745 -0.35070854 -0.31786169 -0.1864743   0.63469692\n",
            "  1.75148978 -0.97479867 -0.51494279 -0.54778964 -0.74487073  0.14199419\n",
            " -0.61348333  0.56900323 -0.1207806  -0.48209594 -0.21932115  2.44127361\n",
            " -0.08793375  0.70039062  0.10914734  0.83177802  1.19309335  1.94857088\n",
            "  1.06170596  0.20768789  0.04345364  2.24419252  1.58725554  0.14199419\n",
            "  1.19309335  0.76608432  0.43761583  0.10914734 -0.0550869  -0.54778964\n",
            "  2.40842676  0.60185007  1.91572403 -1.23757346 -0.58063648  0.40476898\n",
            "  1.75148978  0.86462486  0.63469692  2.21134567 -0.44924909 -0.15362745\n",
            "  1.91572403  1.3573276   0.76608432  0.27338159  0.73323747  0.24053474\n",
            "  0.96316541  2.04711142  1.94857088 -0.87625812 -0.87625812  0.47046268\n",
            "  1.52156184 -0.21932115  2.47412046  1.65294924  0.53615638  1.68579609\n",
            "  0.33907528  0.24053474 -0.71202388  0.20768789 -1.04049237 -0.1864743\n",
            " -0.54778964  0.73323747  1.45586814  1.19309335  0.30622843  2.34273306\n",
            "  0.37192213  1.68579609  0.60185007  1.12739966  2.11280512  2.14565197\n",
            "  1.4230213   0.10914734  0.24053474  2.44127361  2.21134567  0.79893117\n",
            "  0.07630049 -0.21932115  0.99601226  1.85003033  0.60185007 -0.31786169\n",
            "  0.07630049  0.99601226  0.01060679 -0.64633018  1.91572403  0.10914734\n",
            "  2.50696731 -0.02224005  1.2916339   0.20768789  0.07630049  1.09455281\n",
            " -0.41640224  1.98141773  2.37557991 -0.1207806   2.47412046  0.96316541\n",
            "  0.07630049  0.70039062  1.78433663 -0.35070854 -0.48209594  0.20768789\n",
            "  0.20768789  0.79893117 -0.71202388  1.48871499  0.73323747 -0.21932115\n",
            " -0.51494279  0.79893117  1.2916339  -0.44924909 -0.08793375  0.33907528\n",
            "  2.17849882  1.68579609  0.93031856  2.01426457  1.94857088  1.09455281\n",
            "  0.63469692  0.04345364  0.53615638  0.79893117 -0.67917703  0.56900323\n",
            " -0.08793375  2.04711142 -0.97479867 -0.28501484  1.71864294  1.52156184\n",
            "  0.53615638 -0.31786169 -0.08793375  1.32448075  0.66754377  0.40476898\n",
            "  1.62010239  1.94857088  1.88287718  1.39017445 -0.252168   -0.58063648\n",
            " -0.81056443  2.04711142  0.60185007 -0.31786169  0.96316541 -0.41640224\n",
            " -1.20472661 -0.31786169  1.81718348  1.19309335  1.2259402   0.43761583\n",
            "  1.19309335 -0.48209594 -0.41640224  0.86462486  2.44127361  1.32448075\n",
            "  0.83177802  1.48871499  1.88287718  0.47046268  1.09455281  0.24053474\n",
            "  0.27338159  2.37557991  1.94857088  0.20768789 -0.41640224  0.56900323\n",
            " -1.36896086  2.53981416  1.48871499  0.76608432 -0.21932115  0.76608432\n",
            " -0.35070854  0.30622843 -0.58063648 -0.64633018  0.40476898  1.88287718\n",
            "  1.12739966  2.17849882  0.99601226  1.3573276   2.40842676  1.12739966\n",
            " -0.02224005  1.32448075  0.10914734 -0.15362745 -0.54778964  1.68579609\n",
            "  0.01060679  1.58725554 -0.44924909  1.25878705  0.79893117  0.07630049\n",
            "  1.32448075 -0.28501484 -1.10618607  0.73323747  1.19309335  0.24053474\n",
            "  0.66754377  1.55440869  0.10914734  1.52156184  0.01060679  1.3573276\n",
            " -0.87625812  1.62010239  1.09455281  0.50330953  0.47046268  0.40476898\n",
            " -0.21932115  1.39017445 -0.94195182  0.24053474  2.14565197  1.68579609\n",
            " -0.81056443 -0.252168   -0.41640224 -0.71202388  0.14199419  0.30622843\n",
            " -0.61348333  1.78433663  2.14565197  0.37192213 -0.64633018 -1.04049237\n",
            " -0.35070854  1.62010239  1.91572403  0.89747171  0.27338159 -0.0550869\n",
            "  1.71864294 -0.64633018 -0.0550869   0.60185007  0.83177802  2.14565197\n",
            "  1.32448075  0.47046268  0.86462486  2.01426457  0.50330953 -1.43465455\n",
            "  2.47412046  0.10914734  1.52156184  2.21134567  1.45586814 -0.71202388]' has dtype incompatible with int64, please explicitly cast to a compatible dtype first.\n",
            "\n",
            "C:\\Users\\Tanish\\AppData\\Local\\Temp\\ipykernel_21512\\970270249.py:4: FutureWarning:\n",
            "\n",
            "Setting an item of incompatible dtype is deprecated and will raise in a future error of pandas. Value '[ 0.7953586   1.6220407   0.21668113 -0.8580056   1.45670428  0.29934934\n",
            " -1.18867844 -0.8580056   0.29934934 -0.19665992 -0.0313235  -0.19665992\n",
            "  1.29136786 -1.18867844  0.7953586  -0.8580056  -1.02334202  1.12603144\n",
            " -0.0313235  -1.02334202 -2.34603338 -1.18867844  1.29136786  0.96069502\n",
            "  0.13401292  0.46468576 -0.52733276 -0.52733276  0.13401292 -0.19665992\n",
            "  1.6220407  -0.52733276 -1.85002412 -0.52733276 -0.52733276 -1.85002412\n",
            "  1.29136786  0.7953586  -0.69266918 -0.19665992 -0.8580056  -1.18867844\n",
            " -1.18867844  1.6220407   0.46468576 -1.02334202  0.29934934 -0.69266918\n",
            "  0.13401292 -0.0313235  -1.02334202  0.13401292  1.6220407  -0.52733276\n",
            "  1.04336323 -0.69266918  1.12603144  0.21668113 -2.01536054  0.46468576\n",
            " -0.0313235  -0.52733276 -0.19665992  0.63002218 -0.61000097  0.13401292\n",
            " -0.0313235  -0.36199634 -0.36199634 -1.43668307  0.63002218  0.46468576\n",
            "  0.7953586  -0.0313235   0.29934934  0.63002218 -2.18069696 -0.69266918\n",
            "  0.46468576 -1.18867844  0.29934934 -0.19665992 -0.8580056  -2.01536054\n",
            " -1.85002412 -1.02334202  1.95271354 -0.0313235  -0.61000097 -1.35401486\n",
            "  4.102087   -1.18867844 -1.18867844 -2.34603338 -0.19665992  0.46468576\n",
            " -0.8580056  -2.01536054 -1.02334202  0.29934934 -0.69266918  0.13401292\n",
            "  0.63002218 -0.19665992 -1.18867844  0.13401292  0.63002218 -0.19665992\n",
            " -1.02334202 -0.19665992  1.29136786 -0.19665992 -0.69266918  0.7953586\n",
            "  0.13401292 -0.69266918 -1.85002412  0.13401292 -0.36199634 -1.02334202\n",
            " -0.19665992 -1.02334202  0.63002218 -0.0313235   0.46468576  0.7953586\n",
            " -1.6846877   0.29934934  0.63002218 -0.69266918  0.46468576 -0.19665992\n",
            "  0.13401292 -0.61000097  0.7953586  -1.6846877  -1.35401486  0.13401292\n",
            "  2.77939564  2.28338638  0.7953586  -1.02334202 -1.18867844 -1.35401486\n",
            "  0.46468576 -0.36199634 -1.18867844  1.45670428  0.13401292  0.63002218\n",
            " -0.69266918 -0.52733276 -0.36199634 -0.52733276  1.45670428 -0.19665992\n",
            " -1.02334202 -0.69266918 -0.8580056   0.21668113 -0.19665992  0.46468576\n",
            "  0.46468576  0.63002218 -0.69266918  0.13401292 -1.02334202  0.13401292\n",
            " -0.8580056  -0.19665992 -1.18867844  0.63002218  2.77939564  0.96069502\n",
            "  0.63002218 -1.18867844  0.63002218  0.7953586  -0.36199634 -0.19665992\n",
            " -0.0313235  -0.0313235   1.12603144 -0.19665992 -0.19665992 -0.0313235\n",
            "  0.13401292 -1.02334202 -1.51935128 -1.02334202  0.13401292 -1.51935128\n",
            "  0.46468576 -1.02334202  0.7953586  -0.8580056   0.13401292  0.29934934\n",
            "  0.13401292 -0.69266918 -1.02334202  1.04336323  1.87004533 -0.36199634\n",
            " -0.19665992 -1.02334202 -1.43668307 -1.18867844 -0.19665992 -0.52733276\n",
            "  0.46468576  0.29934934 -0.19665992  0.63002218  0.63002218 -0.36199634\n",
            " -0.36199634  0.29934934 -0.69266918  1.29136786 -0.36199634  0.46468576\n",
            "  0.63002218 -0.61000097 -0.19665992  1.12603144 -1.6846877   0.96069502\n",
            "  0.63002218 -0.36199634  0.7953586  -0.8580056  -1.51935128  0.63002218\n",
            " -0.0313235   1.95271354 -0.8580056   1.12603144  0.29934934  1.78737712\n",
            " -0.8580056  -1.35401486 -0.36199634 -1.85002412 -0.36199634 -0.19665992\n",
            "  0.63002218  0.13401292 -0.69266918 -1.6846877  -0.8580056  -0.69266918\n",
            " -0.19665992  0.29934934 -0.36199634  1.45670428 -0.69266918  0.13401292\n",
            " -0.8580056   0.29934934  1.29136786  0.13401292  0.96069502 -1.6846877\n",
            " -0.0313235   0.29934934 -3.99939758 -2.84204264  1.29136786 -0.19665992\n",
            "  0.13401292 -1.02334202 -1.35401486 -0.52733276 -0.19665992  0.46468576\n",
            " -1.35401486 -0.0313235   1.29136786 -1.85002412 -0.8580056   0.96069502\n",
            " -0.0313235   0.7953586   0.46468576  0.46468576 -0.19665992 -0.19665992\n",
            "  1.12603144 -2.34603338  0.29934934  0.29934934 -0.36199634 -0.52733276\n",
            " -0.19665992 -1.85002412 -0.36199634  0.63002218 -0.52733276 -2.34603338\n",
            " -0.36199634 -1.02334202  0.46468576  0.29934934 -0.0313235  -1.18867844\n",
            "  0.63002218 -1.02334202  0.29934934 -0.36199634 -1.02334202  0.63002218\n",
            " -1.51935128 -0.0313235  -0.8580056  -0.0313235  -0.19665992  1.95271354\n",
            " -1.18867844 -1.02334202 -0.19665992  0.13401292 -0.36199634  1.12603144\n",
            " -0.0313235   1.29136786 -2.18069696 -0.19665992 -0.8580056   0.63002218\n",
            "  0.96069502 -1.02334202  0.21668113 -0.0313235  -0.19665992 -0.19665992\n",
            " -0.69266918 -0.19665992 -0.19665992  0.29934934 -0.36199634  0.13401292\n",
            "  0.7953586  -0.8580056   0.46468576  0.13401292 -0.19665992  2.94473206\n",
            "  0.13401292 -1.51935128 -0.69266918 -0.19665992 -1.6846877   0.7953586\n",
            " -1.02334202  2.28338638 -0.0313235  -0.36199634 -1.02334202 -0.8580056\n",
            "  0.46468576 -0.36199634  0.7953586   3.11006848 -0.19665992 -0.36199634\n",
            "  1.29136786 -0.8580056  -1.02334202  0.63002218  1.45670428 -0.19665992\n",
            " -1.51935128 -0.36199634 -0.52733276 -0.69266918 -0.0313235  -1.18867844\n",
            " -1.35401486 -0.19665992  1.12603144 -0.69266918 -0.69266918 -1.18867844\n",
            " -0.94067381  0.46468576 -2.01536054 -0.8580056   1.45670428 -0.0313235\n",
            "  0.96069502  0.13401292 -0.52733276 -0.61000097 -1.02334202  0.29934934\n",
            " -0.52733276 -0.19665992 -1.35401486  1.45670428  0.63002218 -0.19665992\n",
            " -1.18867844 -1.02334202 -0.69266918  0.13401292 -0.36199634 -0.36199634\n",
            "  1.29136786 -0.36199634 -0.69266918 -0.69266918 -0.19665992  1.78737712\n",
            " -0.19665992  0.13401292 -0.36199634  1.04336323  0.21668113 -0.19665992\n",
            "  1.29136786 -0.52733276 -0.69266918 -0.0313235   0.63002218 -0.36199634\n",
            " -0.8580056  -1.51935128  1.12603144 -1.02334202  1.45670428 -0.19665992\n",
            "  0.46468576 -0.8580056   0.13401292 -0.69266918 -0.36199634 -0.19665992\n",
            " -1.51935128 -1.51935128 -0.36199634  0.13401292 -0.0313235  -0.8580056\n",
            " -0.19665992  0.46468576  0.13401292  0.21668113  1.45670428 -0.69266918\n",
            "  0.96069502  0.29934934  0.13401292  1.12603144 -0.36199634 -0.0313235\n",
            "  0.13401292  1.45670428 -0.0313235  -0.69266918  0.46468576  0.7953586\n",
            " -1.02334202 -1.85002412  0.46468576 -0.0313235   0.63002218 -0.61000097\n",
            "  1.45670428 -0.36199634 -0.19665992  0.13401292  2.11804996 -1.35401486\n",
            " -1.6846877  -0.69266918  0.46468576  0.7953586  -0.19665992 -0.52733276\n",
            "  0.96069502  1.6220407  -0.69266918 -1.35401486 -0.19665992  1.12603144\n",
            " -0.52733276  1.12603144  1.78737712  0.46468576  0.46468576  0.96069502\n",
            "  1.29136786 -1.6846877  -1.35401486  0.21668113  0.96069502  1.29136786\n",
            " -3.50338832  0.63002218  0.96069502  0.13401292 -0.19665992  1.45670428\n",
            "  0.63002218  1.78737712 -0.19665992  0.29934934  0.29934934  1.29136786\n",
            "  0.46468576  1.29136786 -0.0313235   1.6220407   0.13401292 -1.02334202\n",
            " -0.19665992  0.13401292 -0.36199634 -0.19665992  0.13401292  0.63002218\n",
            " -0.19665992 -0.36199634  1.45670428 -0.0313235  -0.69266918 -0.19665992\n",
            " -0.8580056   0.96069502  0.13401292  2.61405922 -0.19665992 -0.8580056\n",
            "  0.46468576 -0.19665992  1.29136786 -0.19665992  0.7953586  -0.69266918\n",
            "  0.46468576  0.46468576 -0.69266918  0.7953586  -0.69266918  0.96069502\n",
            " -0.69266918 -0.0313235   0.13401292 -0.36199634 -1.02334202  0.96069502\n",
            "  0.13401292  1.6220407   0.13401292 -0.0313235   1.04336323  0.13401292\n",
            "  2.28338638  0.7953586   0.29934934  0.46468576 -0.52733276 -0.19665992\n",
            "  2.4487228   0.7953586   0.7953586   0.21668113  1.45670428  0.29934934\n",
            "  1.29136786 -1.85002412  0.13401292  0.29934934 -0.69266918  0.46468576\n",
            " -0.0313235   0.29934934  0.46468576  0.96069502  0.63002218  0.13401292\n",
            " -0.19665992  1.45670428 -0.69266918  1.12603144  0.13401292  0.29934934\n",
            " -0.52733276 -0.52733276 -0.36199634 -0.36199634 -0.36199634  0.13401292\n",
            "  0.63002218  0.13401292  0.46468576  0.63002218 -0.19665992  1.45670428\n",
            "  0.29934934 -0.52733276  1.12603144  0.96069502 -0.8580056   0.46468576\n",
            " -2.01536054 -0.19665992  0.46468576  0.13401292 -1.18867844  2.11804996\n",
            " -1.02334202 -0.19665992  1.12603144  0.63002218  1.12603144  0.63002218\n",
            "  0.7953586   0.13401292  0.46468576  0.13401292  0.46468576  0.29934934\n",
            "  0.13401292 -0.8580056   0.13401292  0.13401292  1.12603144 -1.51935128\n",
            " -1.85002412  1.04336323 -0.8580056  -0.69266918 -1.18867844  1.29136786\n",
            "  0.13401292  0.7953586   0.13401292 -1.6846877   1.12603144  0.63002218\n",
            " -0.0313235   0.96069502  1.45670428  0.96069502 -0.69266918 -0.0313235\n",
            "  0.29934934  0.96069502 -0.61000097  0.7953586  -0.19665992 -0.8580056\n",
            "  0.13401292 -0.52733276 -1.02334202  1.45670428 -0.52733276  0.13401292\n",
            "  0.96069502 -0.8580056  -0.69266918 -1.02334202  0.29934934  2.61405922\n",
            "  0.63002218  0.13401292 -1.85002412  0.96069502 -1.6846877   3.11006848\n",
            "  0.7953586  -0.36199634 -0.36199634  2.11804996  0.29934934  0.63002218\n",
            "  0.7953586   0.29934934  2.77939564  0.63002218 -1.02334202  0.7953586\n",
            " -0.19665992  1.29136786  0.13401292  0.7953586  -0.19665992 -0.0313235\n",
            "  1.12603144  0.46468576  1.29136786 -0.0313235  -0.19665992  1.12603144\n",
            " -1.6846877   0.29934934  0.63002218  1.29136786  0.96069502 -0.19665992\n",
            " -1.35401486 -0.69266918 -0.52733276 -1.51935128  1.6220407   0.13401292\n",
            "  0.29934934  0.29934934 -3.50338832  0.7953586   3.44074132 -0.36199634\n",
            "  1.45670428  0.13401292  0.46468576  1.29136786  1.45670428 -0.0313235\n",
            "  1.04336323 -0.0313235  -0.8580056   2.94473206 -0.19665992 -0.0313235\n",
            "  0.13401292  0.46468576 -0.69266918 -0.8580056  -1.85002412  0.46468576\n",
            "  0.29934934 -0.52733276  1.29136786 -0.52733276  1.45670428  0.13401292\n",
            " -0.52733276  1.45670428 -0.36199634 -0.0313235   0.29934934 -0.36199634\n",
            " -0.0313235   3.11006848 -0.52733276 -0.36199634  0.46468576  1.12603144\n",
            "  1.29136786  0.13401292  0.63002218  1.78737712  1.78737712 -0.19665992\n",
            " -0.8580056  -0.19665992 -0.0313235  -0.69266918 -2.67670622 -1.85002412\n",
            " -0.19665992  1.95271354  0.13401292 -1.02334202 -0.0313235   0.13401292]' has dtype incompatible with int64, please explicitly cast to a compatible dtype first.\n",
            "\n",
            "C:\\Users\\Tanish\\AppData\\Local\\Temp\\ipykernel_21512\\970270249.py:4: FutureWarning:\n",
            "\n",
            "Setting an item of incompatible dtype is deprecated and will raise in a future error of pandas. Value '[-0.90506031 -0.69036183 -0.15361564 -0.36831412  1.45662293 -0.69036183\n",
            " -0.15361564 -0.69036183  2.2080676  -0.0462664  -0.47566336  0.38313055\n",
            "  1.02722598 -0.58301259  0.38313055  1.45662293  0.49047979 -0.0462664\n",
            " -0.47566336 -1.11975878 -0.79771107 -1.01240955  1.02722598  0.59782903\n",
            "  1.45662293  1.24192445  0.16843207 -0.47566336 -0.69036183 -0.69036183\n",
            " -0.69036183 -1.33445726 -1.33445726 -0.69036183  1.56397217 -1.87120345\n",
            "  3.49625845 -0.69036183  1.45662293 -0.69036183 -0.69036183  0.70517826\n",
            " -1.76385421 -0.69036183  0.38313055  0.59782903 -0.69036183 -0.26096488\n",
            " -0.69036183 -1.01240955  1.99336912 -0.0462664  -0.69036183 -1.54915574\n",
            " -0.0462664   0.8125275  -0.79771107  0.27578131 -0.79771107 -0.69036183\n",
            "  0.59782903 -0.58301259 -0.69036183 -1.76385421  0.06108283  0.16843207\n",
            "  2.85216302 -0.26096488 -0.90506031 -0.69036183 -1.33445726  1.34927369\n",
            " -1.01240955 -0.0462664  -0.79771107  0.91987674 -0.69036183 -1.54915574\n",
            " -0.0462664  -0.79771107 -0.0462664  -0.69036183  0.06108283 -1.01240955\n",
            "  0.27578131 -0.69036183 -0.69036183 -1.01240955 -0.69036183  0.16843207\n",
            " -0.69036183  0.06108283  0.38313055 -1.54915574 -0.69036183 -0.15361564\n",
            " -0.69036183 -0.69036183 -0.47566336 -1.33445726  1.24192445  0.27578131\n",
            " -0.69036183  0.27578131  0.91987674 -0.15361564 -0.69036183  0.49047979\n",
            " -0.69036183 -0.69036183 -1.76385421 -0.69036183  1.24192445 -0.69036183\n",
            " -0.15361564 -0.69036183 -0.90506031  0.38313055 -1.54915574 -0.79771107\n",
            " -0.15361564 -0.26096488 -0.69036183  0.16843207 -0.69036183  0.27578131\n",
            " -0.15361564  0.70517826  1.02722598  0.8125275  -0.69036183 -1.11975878\n",
            "  2.42276607 -0.69036183  1.56397217 -1.33445726 -0.69036183 -0.90506031\n",
            " -0.47566336  0.8125275  -0.69036183 -0.69036183 -1.11975878  0.06108283\n",
            "  0.27578131 -0.15361564 -1.87120345  1.13457522  1.34927369  0.70517826\n",
            " -0.47566336 -0.26096488 -0.69036183 -0.69036183 -1.65650497 -0.47566336\n",
            "  1.56397217 -0.36831412  0.38313055 -0.47566336  0.06108283 -0.69036183\n",
            " -0.69036183 -0.69036183 -1.01240955 -0.79771107 -0.69036183 -0.69036183\n",
            " -0.69036183  1.77867064  0.8125275   2.2080676  -0.69036183 -0.69036183\n",
            "  1.88601988  0.59782903 -1.22710802 -0.69036183 -0.79771107 -1.22710802\n",
            "  0.49047979  0.06108283 -1.11975878 -0.69036183 -0.69036183  0.27578131\n",
            "  0.8125275  -0.26096488 -0.26096488 -0.47566336  1.34927369 -0.69036183\n",
            "  1.34927369 -0.69036183 -1.11975878 -0.69036183 -0.69036183 -1.01240955\n",
            " -1.65650497 -0.0462664  -0.58301259  2.85216302  0.38313055  0.27578131\n",
            " -0.69036183  0.59782903 -0.79771107 -0.69036183 -0.0462664  -1.33445726\n",
            " -0.0462664  -0.69036183  1.24192445  0.38313055 -0.26096488 -0.69036183\n",
            "  0.06108283 -0.69036183 -0.69036183  2.10071836 -0.69036183 -0.69036183\n",
            " -0.69036183 -0.58301259  0.59782903 -0.90506031 -0.69036183 -0.69036183\n",
            " -1.4418065   0.49047979  1.24192445 -1.54915574 -0.69036183  0.06108283\n",
            " -0.69036183 -0.69036183 -1.54915574  1.56397217 -0.79771107 -0.69036183\n",
            " -0.26096488  1.24192445 -0.58301259 -1.22710802 -1.33445726  0.49047979\n",
            " -1.33445726 -1.01240955  1.56397217 -0.69036183  0.49047979 -0.36831412\n",
            "  0.49047979  0.8125275  -0.69036183  0.59782903 -0.47566336 -0.69036183\n",
            " -1.87120345  0.06108283 -1.33445726 -0.15361564  1.77867064 -0.58301259\n",
            "  1.88601988 -0.69036183 -0.90506031 -1.01240955 -0.90506031 -0.69036183\n",
            "  0.91987674  0.49047979 -1.76385421 -0.69036183 -0.69036183  2.42276607\n",
            " -1.11975878  1.67132141  0.16843207 -0.69036183  0.38313055  0.16843207\n",
            " -0.69036183  1.45662293 -0.69036183  2.42276607 -0.69036183  2.63746455\n",
            "  0.27578131  2.10071836 -0.69036183  1.02722598 -1.4418065   0.27578131\n",
            "  1.02722598 -1.87120345 -0.58301259 -1.76385421  1.24192445 -0.79771107\n",
            " -0.69036183 -0.0462664  -1.11975878 -0.69036183 -0.90506031 -1.22710802\n",
            " -0.69036183 -1.01240955  1.67132141  0.70517826 -0.90506031 -0.69036183\n",
            " -1.4418065   0.27578131  0.49047979  0.16843207 -0.69036183 -0.69036183\n",
            "  0.38313055 -1.11975878 -1.54915574 -0.69036183  0.8125275  -0.69036183\n",
            " -0.69036183  0.91987674 -0.90506031 -0.69036183 -0.90506031 -0.69036183\n",
            " -0.69036183 -1.65650497  0.49047979 -0.69036183 -0.69036183  0.49047979\n",
            " -0.47566336  0.59782903  1.34927369 -0.69036183  1.34927369 -0.69036183\n",
            "  0.06108283 -1.65650497 -0.69036183  1.34927369 -0.69036183  1.02722598\n",
            " -0.26096488  0.06108283 -1.11975878 -0.69036183  1.67132141 -1.33445726\n",
            "  1.02722598  1.24192445  0.27578131 -0.58301259 -2.08590193 -1.01240955\n",
            "  0.16843207 -0.69036183  1.67132141  0.38313055  0.06108283  0.27578131\n",
            " -0.69036183 -0.36831412 -0.69036183  1.02722598 -0.47566336 -0.36831412\n",
            " -1.54915574 -0.47566336  0.16843207 -1.4418065  -1.65650497 -0.36831412\n",
            "  0.70517826 -0.69036183 -1.22710802 -0.47566336 -0.58301259  1.34927369\n",
            " -0.69036183 -0.26096488  0.49047979 -0.69036183  1.24192445  0.27578131\n",
            " -0.47566336 -0.58301259  0.38313055 -0.69036183 -1.01240955 -0.69036183\n",
            "  2.63746455 -0.69036183  0.27578131 -0.69036183  0.59782903 -0.69036183\n",
            " -0.69036183 -1.01240955 -0.90506031 -1.33445726 -0.69036183 -0.69036183\n",
            "  1.45662293 -1.01240955  1.99336912 -0.58301259 -0.69036183  1.99336912\n",
            " -0.69036183 -1.22710802 -2.08590193  0.59782903 -0.69036183 -1.33445726\n",
            " -0.69036183 -0.47566336 -0.0462664  -1.65650497  1.88601988 -0.69036183\n",
            " -0.69036183 -0.90506031 -0.69036183 -0.69036183 -2.19325117  0.49047979\n",
            " -0.69036183 -1.11975878 -1.01240955 -1.54915574  0.49047979 -0.69036183\n",
            "  0.06108283 -0.69036183  0.06108283  0.59782903 -0.58301259 -0.69036183\n",
            "  1.34927369  0.27578131 -1.76385421 -0.69036183 -0.69036183 -0.69036183\n",
            " -0.0462664  -1.11975878  1.13457522  0.38313055 -0.69036183 -1.33445726\n",
            "  0.49047979 -0.90506031  0.49047979 -0.26096488  1.24192445 -0.69036183\n",
            " -0.47566336 -0.47566336  0.49047979 -1.11975878 -0.69036183  0.06108283\n",
            "  0.27578131  1.13457522 -0.69036183 -0.69036183 -0.69036183 -1.54915574\n",
            " -1.87120345  0.91987674  1.45662293  1.34927369  1.13457522 -0.0462664\n",
            " -0.69036183 -1.01240955 -0.69036183 -0.69036183 -0.0462664  -0.90506031\n",
            "  0.91987674  0.27578131 -0.69036183  1.34927369  0.16843207 -0.15361564\n",
            " -0.69036183 -0.69036183 -0.0462664  -0.69036183 -0.69036183  1.45662293\n",
            "  1.13457522 -0.69036183  2.10071836 -0.0462664   0.27578131 -0.0462664\n",
            "  0.8125275   0.59782903 -0.15361564 -0.0462664   0.91987674  1.77867064\n",
            "  0.49047979  1.24192445 -0.0462664  -0.0462664   0.38313055 -0.0462664\n",
            "  0.27578131 -0.0462664   1.56397217 -1.01240955 -0.0462664   1.88601988\n",
            "  0.59782903  1.45662293 -0.15361564  0.38313055  1.02722598 -0.0462664\n",
            "  0.27578131  2.2080676  -0.0462664  -0.26096488 -0.0462664  -1.65650497\n",
            "  3.81830617 -1.01240955  0.70517826 -0.0462664   0.49047979  0.16843207\n",
            "  0.49047979  1.24192445  0.27578131 -0.26096488 -0.0462664   1.45662293\n",
            " -0.0462664  -0.0462664  -0.0462664   2.31541683  0.8125275   0.59782903\n",
            " -0.0462664   2.31541683  1.34927369 -0.26096488  0.49047979  0.16843207\n",
            "  0.91987674 -0.15361564 -0.0462664  -0.0462664   1.34927369  0.38313055\n",
            "  0.06108283  2.2080676   1.67132141 -0.0462664   0.8125275  -0.0462664\n",
            " -0.0462664   1.34927369  0.27578131  0.91987674  0.59782903 -0.0462664\n",
            " -0.0462664  -0.0462664   0.70517826 -0.0462664   0.49047979  0.27578131\n",
            " -0.79771107  0.59782903  0.49047979  0.91987674 -0.0462664  -0.0462664\n",
            "  0.49047979  0.27578131 -0.47566336 -0.90506031  0.06108283 -1.11975878\n",
            "  0.38313055 -0.0462664  -0.0462664  -0.0462664   7.68287874  1.99336912\n",
            " -0.36831412 -0.0462664  -0.0462664   1.34927369  0.27578131  1.02722598\n",
            "  1.88601988  1.13457522 -0.26096488 -0.0462664   0.59782903 -0.0462664\n",
            " -0.36831412 -0.0462664  -0.0462664  -0.0462664   1.24192445 -0.0462664\n",
            " -1.4418065  -0.0462664   0.16843207 -0.0462664   1.56397217  0.06108283\n",
            " -0.0462664  -0.0462664  -0.0462664  -0.0462664   1.02722598 -0.0462664\n",
            " -0.58301259 -1.33445726 -2.19325117  0.8125275  -0.58301259  1.56397217\n",
            " -0.15361564 -0.36831412 -0.0462664   1.13457522 -0.0462664   1.02722598\n",
            " -0.0462664  -0.69036183 -0.0462664  -0.69036183 -0.0462664  -0.0462664\n",
            "  0.49047979  0.59782903 -0.15361564  0.49047979  1.34927369  1.45662293\n",
            " -0.58301259 -0.0462664   0.16843207 -0.0462664  -0.0462664  -0.0462664\n",
            "  1.45662293 -1.54915574  1.77867064 -0.0462664   0.16843207 -0.0462664\n",
            " -0.0462664  -1.11975878  0.91987674  0.8125275  -0.0462664   1.99336912\n",
            " -0.0462664   0.06108283  0.91987674  1.45662293  1.24192445  0.8125275\n",
            "  0.38313055  1.67132141  1.99336912  1.99336912  1.24192445 -1.01240955\n",
            " -0.0462664  -0.0462664  -1.01240955 -0.0462664  -0.47566336  1.56397217\n",
            "  0.06108283 -0.0462664   1.77867064  1.45662293 -0.0462664  -0.0462664\n",
            " -0.0462664   0.91987674 -0.0462664  -0.36831412 -0.0462664  -1.4418065\n",
            " -0.0462664   1.02722598 -0.0462664   0.49047979 -0.0462664  -0.0462664\n",
            "  3.0668615  -0.0462664   1.56397217  1.99336912 -0.0462664   2.31541683\n",
            " -0.36831412 -0.90506031  0.38313055  0.16843207  2.53011531 -0.0462664\n",
            " -0.26096488  0.59782903 -0.15361564 -0.0462664   0.49047979 -0.0462664\n",
            " -0.0462664  -0.0462664   0.49047979  0.91987674  0.59782903  1.24192445\n",
            " -0.0462664  -0.0462664   0.27578131 -0.79771107 -0.0462664  -0.0462664\n",
            "  0.49047979  0.70517826  1.24192445 -0.0462664   1.02722598  1.56397217\n",
            "  2.10071836 -0.36831412  1.24192445  0.16843207 -0.47566336 -0.0462664\n",
            "  1.02722598 -0.0462664   1.02722598 -0.0462664   1.45662293 -0.58301259\n",
            " -0.0462664  -0.0462664   0.8125275  -0.0462664   0.8125275   0.49047979\n",
            "  1.88601988 -0.0462664  -0.0462664  -0.47566336 -0.90506031 -0.0462664 ]' has dtype incompatible with int64, please explicitly cast to a compatible dtype first.\n",
            "\n",
            "C:\\Users\\Tanish\\AppData\\Local\\Temp\\ipykernel_21512\\970270249.py:4: FutureWarning:\n",
            "\n",
            "Setting an item of incompatible dtype is deprecated and will raise in a future error of pandas. Value '[ 2.02160968  0.40494237  2.27687294 -0.70119842  0.49003012 -0.61611067\n",
            " -0.95646168 -0.0204964   2.5321362  -0.53102292 -0.27575966 -0.87137393\n",
            " -0.36084741 -0.44593516 -0.87137393 -1.04154944 -0.44593516 -1.04154944\n",
            "  0.74529338 -1.04154944 -0.61611067 -0.95646168  0.49003012  1.08564439\n",
            " -0.10558415 -0.44593516 -0.19067191 -1.04154944 -0.27575966 -0.36084741\n",
            " -0.27575966 -0.95646168 -0.61611067 -0.27575966  0.74529338 -1.04154944\n",
            " -0.19067191  0.91546889 -0.95646168 -1.04154944  0.23476686 -0.78628618\n",
            " -0.95646168 -0.44593516  1.00055664 -0.0204964   0.14967911 -0.61611067\n",
            " -0.10558415  1.93652192 -0.78628618 -0.10558415  1.76634642 -0.70119842\n",
            " -0.53102292 -0.61611067 -0.87137393 -0.95646168 -0.95646168  0.66020563\n",
            " -0.53102292 -0.78628618 -0.78628618 -0.95646168 -0.95646168 -0.53102292\n",
            "  1.00055664 -0.61611067 -0.78628618 -1.04154944  0.06459135  0.74529338\n",
            " -1.04154944  0.57511787 -0.53102292 -0.44593516 -0.95646168 -0.78628618\n",
            "  0.57511787 -1.04154944 -0.61611067  0.66020563 -0.78628618 -0.95646168\n",
            " -0.87137393 -0.95646168 -1.04154944 -0.78628618 -0.53102292 -1.04154944\n",
            " -0.53102292  0.31985461 -0.70119842 -0.95646168 -0.95646168  0.23476686\n",
            " -0.70119842 -0.70119842 -0.95646168 -1.04154944 -0.78628618 -0.87137393\n",
            "  3.04266271 -0.27575966 -0.87137393 -0.87137393  0.06459135 -0.87137393\n",
            " -0.70119842 -0.95646168 -0.44593516 -0.61611067 -0.95646168  3.04266271\n",
            " -0.70119842 -0.95646168 -0.36084741  0.49003012 -0.61611067 -0.19067191\n",
            " -1.04154944 -0.95646168 -0.36084741 -0.44593516  1.85143417  0.40494237\n",
            " -0.95646168 -0.87137393  0.66020563  0.06459135  2.7023117  -0.95646168\n",
            " -0.78628618  0.31985461 -0.87137393 -1.04154944 -0.87137393 -0.95646168\n",
            "  1.17073215 -0.95646168  2.95757496 -0.70119842 -0.87137393 -0.95646168\n",
            "  1.00055664  1.34090765 -1.04154944  0.23476686  1.00055664 -0.53102292\n",
            " -1.04154944 -0.95646168  0.06459135 -0.36084741 -0.36084741 -0.70119842\n",
            " -0.87137393 -0.0204964  -0.87137393 -1.04154944 -0.95646168  0.74529338\n",
            "  1.17073215 -0.10558415 -0.87137393 -1.04154944 -0.53102292  0.57511787\n",
            " -1.04154944  0.57511787 -0.95646168  0.66020563  1.51108316  1.76634642\n",
            " -0.78628618  0.83038113 -1.04154944 -0.44593516 -0.10558415 -0.53102292\n",
            "  1.85143417 -0.53102292 -0.53102292 -0.78628618 -0.19067191 -0.53102292\n",
            " -0.27575966 -0.87137393 -0.87137393 -0.53102292 -0.44593516 -0.53102292\n",
            " -0.78628618 -0.87137393 -0.95646168 -0.19067191  1.2558199  -0.87137393\n",
            " -0.44593516 -1.04154944 -0.70119842 -0.78628618  2.27687294 -0.10558415\n",
            "  0.31985461  2.36196069  0.74529338 -1.04154944 -1.04154944 -0.61611067\n",
            " -0.95646168 -0.61611067 -0.19067191 -0.78628618 -0.95646168 -0.36084741\n",
            " -0.87137393 -0.53102292 -1.04154944 -0.36084741 -1.04154944 -1.04154944\n",
            "  1.00055664 -1.04154944  0.06459135 -0.87137393  0.74529338 -0.53102292\n",
            " -0.78628618 -0.70119842 -0.53102292 -0.87137393 -0.78628618 -0.61611067\n",
            " -0.53102292 -0.27575966 -0.87137393 -0.44593516 -0.44593516  1.00055664\n",
            " -0.70119842 -0.27575966 -0.70119842 -0.78628618  0.06459135 -0.78628618\n",
            "  2.5321362   0.83038113 -0.78628618 -1.04154944 -1.04154944 -1.04154944\n",
            " -0.95646168 -0.36084741  0.66020563 -0.87137393 -0.87137393  2.02160968\n",
            " -0.95646168  0.49003012  0.31985461  1.51108316  0.06459135 -0.70119842\n",
            "  0.06459135  1.08564439 -1.04154944 -0.61611067 -0.78628618 -0.44593516\n",
            " -0.27575966 -1.04154944 -0.95646168 -0.36084741 -0.70119842 -0.78628618\n",
            " -0.61611067 -0.0204964  -1.04154944  2.7023117  -0.44593516 -0.78628618\n",
            "  2.10669743  0.14967911  0.57511787 -1.04154944  1.59617091 -0.70119842\n",
            " -0.87137393 -0.70119842  0.31985461 -0.36084741 -1.04154944  0.66020563\n",
            " -0.95646168 -0.70119842 -0.61611067 -0.27575966 -0.44593516  0.14967911\n",
            "  0.23476686 -0.53102292  2.44704844  0.74529338  1.08564439 -0.70119842\n",
            "  0.91546889 -0.95646168 -0.61611067 -0.78628618 -0.10558415 -0.53102292\n",
            " -0.95646168 -1.04154944  1.08564439  0.31985461  0.49003012 -1.04154944\n",
            " -0.95646168 -0.95646168 -0.95646168  0.23476686 -0.95646168 -0.0204964\n",
            "  2.02160968  1.34090765 -0.95646168 -0.87137393 -0.61611067 -0.36084741\n",
            " -0.27575966 -0.19067191 -1.04154944 -0.78628618  0.31985461  0.31985461\n",
            " -0.44593516  0.31985461 -0.27575966  2.10669743  0.74529338  0.14967911\n",
            "  1.08564439 -0.78628618 -1.04154944  1.2558199   2.5321362   2.7023117\n",
            " -0.27575966 -0.27575966 -1.04154944  0.91546889 -0.44593516 -0.95646168\n",
            " -0.95646168  0.14967911 -0.78628618 -0.95646168 -1.04154944 -0.70119842\n",
            " -0.36084741 -0.44593516  1.4259954   0.31985461 -1.04154944 -0.70119842\n",
            "  2.78739945 -0.87137393  2.87248721 -0.87137393 -0.70119842 -0.70119842\n",
            " -0.78628618 -0.44593516  0.74529338 -1.04154944  0.31985461 -0.70119842\n",
            "  0.49003012 -0.70119842 -0.95646168 -1.04154944 -1.04154944 -0.70119842\n",
            "  1.85143417  0.40494237 -0.61611067 -0.70119842 -0.44593516 -0.70119842\n",
            " -0.95646168 -1.04154944 -0.95646168 -0.19067191 -0.95646168 -0.78628618\n",
            " -0.36084741 -0.19067191 -0.78628618  1.08564439 -0.61611067 -0.61611067\n",
            " -0.78628618 -1.04154944 -1.04154944 -0.78628618 -0.95646168 -0.53102292\n",
            " -0.61611067 -1.04154944 -1.04154944 -1.04154944 -0.70119842 -0.61611067\n",
            " -0.87137393  0.40494237  0.23476686  0.66020563 -0.44593516 -1.04154944\n",
            " -0.19067191 -0.95646168 -0.78628618 -0.44593516 -0.61611067  2.10669743\n",
            " -0.95646168 -0.78628618  1.51108316  0.66020563  2.27687294 -0.70119842\n",
            "  2.61722395 -1.04154944 -0.61611067 -0.87137393 -0.70119842  3.29792597\n",
            " -0.78628618  2.44704844 -0.78628618  4.06371575  1.2558199  -0.61611067\n",
            "  0.49003012  0.31985461 -0.95646168 -0.36084741  1.4259954  -0.78628618\n",
            "  2.19178518 -0.19067191  0.49003012  2.5321362  -0.27575966 -0.70119842\n",
            "  0.49003012 -1.04154944 -0.44593516  0.66020563  0.57511787  0.40494237\n",
            " -1.04154944 -1.04154944  2.10669743 -0.44593516  2.87248721 -0.78628618\n",
            "  0.74529338 -0.0204964  -0.95646168  2.78739945  0.06459135 -1.04154944\n",
            " -0.95646168 -0.70119842 -0.53102292 -0.44593516 -0.95646168 -0.95646168\n",
            "  0.31985461  1.2558199   0.57511787 -0.36084741 -0.95646168  0.06459135\n",
            " -1.04154944  0.74529338  1.00055664  0.40494237 -0.70119842 -0.95646168\n",
            " -0.95646168 -0.95646168 -0.95646168  1.68125866  1.4259954  -0.53102292\n",
            " -0.0204964   2.02160968 -0.19067191 -0.19067191 -0.10558415  0.66020563\n",
            " -0.36084741  1.51108316  0.66020563  0.83038113 -0.44593516 -0.61611067\n",
            "  1.00055664  0.31985461  1.59617091  2.78739945  0.83038113  1.17073215\n",
            "  0.14967911 -0.19067191 -0.78628618  1.00055664  0.40494237 -0.36084741\n",
            "  1.85143417  0.66020563  0.14967911  1.08564439 -0.95646168 -0.87137393\n",
            "  0.40494237  1.51108316 -0.36084741  0.66020563 -0.0204964  -0.27575966\n",
            " -0.70119842 -0.44593516  1.68125866  1.00055664  0.31985461 -0.44593516\n",
            "  0.23476686 -0.19067191  0.40494237  0.83038113 -0.19067191  0.14967911\n",
            "  0.66020563  1.08564439  0.49003012 -0.44593516 -1.04154944 -0.95646168\n",
            " -0.87137393 -0.10558415  0.83038113 -0.53102292  1.93652192  0.14967911\n",
            "  1.00055664  2.10669743 -0.53102292 -0.19067191 -0.95646168 -0.70119842\n",
            "  1.00055664 -0.70119842  2.10669743 -0.10558415  0.31985461  1.68125866\n",
            "  1.34090765 -0.44593516  0.91546889 -0.36084741 -0.36084741  2.87248721\n",
            " -0.36084741  0.91546889 -0.0204964   0.66020563  0.31985461 -0.70119842\n",
            "  0.23476686  0.83038113 -0.27575966 -0.87137393  0.66020563  1.76634642\n",
            " -0.44593516 -0.0204964   1.17073215 -0.70119842 -0.27575966 -0.53102292\n",
            "  0.83038113 -0.36084741  2.19178518 -1.04154944  2.44704844 -1.04154944\n",
            "  1.59617091  0.66020563  1.59617091  1.00055664 -0.70119842 -0.19067191\n",
            " -0.78628618 -0.36084741  1.08564439 -0.27575966 -0.70119842 -0.44593516\n",
            " -0.36084741 -0.44593516  1.17073215  1.59617091 -0.36084741  0.91546889\n",
            " -0.95646168  0.40494237  1.76634642  0.23476686 -0.95646168  1.51108316\n",
            " -0.53102292  0.14967911 -0.70119842 -0.44593516  0.40494237 -0.95646168\n",
            " -0.0204964   1.34090765  0.91546889 -1.04154944  0.23476686  0.57511787\n",
            "  1.4259954   1.4259954  -0.78628618 -0.78628618 -0.95646168  1.08564439\n",
            " -0.61611067  1.51108316 -0.87137393 -0.10558415  0.06459135  0.40494237\n",
            " -0.10558415  0.66020563 -0.78628618  0.23476686  0.40494237 -0.70119842\n",
            " -0.10558415  0.66020563 -1.04154944  2.78739945  0.23476686  0.57511787\n",
            " -0.36084741 -0.87137393 -0.61611067 -0.36084741  2.02160968  1.59617091\n",
            "  1.4259954  -0.0204964  -0.95646168  0.74529338 -0.70119842 -0.61611067\n",
            "  0.31985461  0.66020563  2.27687294 -0.0204964  -0.19067191 -0.70119842\n",
            " -0.53102292 -0.95646168  0.83038113  0.57511787  0.57511787  3.12775047\n",
            "  0.57511787 -0.10558415  0.66020563  0.23476686 -0.36084741  0.23476686\n",
            "  0.74529338  0.83038113  0.23476686  1.17073215 -0.19067191  1.68125866\n",
            " -0.70119842 -0.61611067 -0.53102292  0.57511787  2.44704844 -0.0204964\n",
            " -0.0204964  -0.27575966  0.74529338  0.49003012  2.36196069  0.40494237\n",
            " -0.70119842 -0.87137393 -0.61611067  1.08564439  0.91546889  0.83038113\n",
            "  0.83038113 -0.19067191  1.34090765  1.59617091 -0.19067191 -0.0204964\n",
            " -0.78628618 -0.78628618  1.08564439  0.31985461  0.83038113  2.27687294\n",
            " -0.27575966  1.00055664 -0.87137393  0.40494237  0.06459135 -0.19067191\n",
            "  1.59617091  0.74529338  0.40494237 -0.44593516  0.74529338 -0.61611067\n",
            " -0.19067191  2.10669743  0.66020563  0.49003012  1.08564439 -0.53102292\n",
            "  1.93652192  1.76634642 -0.70119842  0.74529338  0.06459135 -0.95646168\n",
            " -0.78628618  0.74529338  1.2558199   1.00055664 -0.53102292  0.23476686\n",
            "  1.4259954  -0.95646168  1.4259954  -0.10558415 -0.0204964  -0.61611067\n",
            "  1.68125866  1.76634642  0.06459135  2.19178518  1.51108316 -0.10558415]' has dtype incompatible with int64, please explicitly cast to a compatible dtype first.\n",
            "\n"
          ]
        }
      ],
      "source": [
        "#standard scaling\n",
        "from sklearn.preprocessing import StandardScaler\n",
        "scaler = StandardScaler()\n",
        "df.iloc[:,:-1]= scaler.fit_transform(df.iloc[:,:-1])\n",
        "#scaled everything except target class\n",
        "x = df.iloc[:,:-1]\n",
        "y = df['Outcome']\n",
        "#train test split\n",
        "from sklearn.model_selection import train_test_split\n",
        "x_train,x_test,y_train,y_test = train_test_split(x,y,test_size=0.2,random_state=42)\n",
        "#svm\n",
        "from sklearn import svm\n",
        "clf = svm.SVC(kernel='linear')\n",
        "#linear kernel\n",
        "clf.fit(x_train,y_train)\n",
        "y_pred = clf.predict(x_test)\n",
        "#predicted on test value after training\n",
        "accu = clf.score(x_test,y_test)\n",
        "print(\"accuracy of SVM : \", accu)\n",
        "#accuracy of model\n"
      ]
    },
    {
      "cell_type": "markdown",
      "metadata": {
        "id": "4lZtyDZf5NlF"
      },
      "source": [
        "##KNN"
      ]
    },
    {
      "cell_type": "code",
      "execution_count": 35,
      "metadata": {
        "colab": {
          "base_uri": "https://localhost:8080/",
          "height": 581
        },
        "id": "2dZPtFkVBlwj",
        "outputId": "eabaf103-24c1-4d57-cadb-863ba5ccd4dd"
      },
      "outputs": [
        {
          "data": {
            "text/plain": [
              "Text(0, 0.5, 'Error Rate')"
            ]
          },
          "execution_count": 35,
          "metadata": {},
          "output_type": "execute_result"
        },
        {
          "data": {
            "image/png": "[encoded data removed]",
            "text/plain": [
              "<Figure size 1000x600 with 1 Axes>"
            ]
          },
          "metadata": {},
          "output_type": "display_data"
        }
      ],
      "source": [
        "#k nearest neighbours\n",
        "from sklearn.neighbors import KNeighborsClassifier\n",
        "from sklearn.model_selection import cross_val_score\n",
        "\n",
        "error_rate = []\n",
        "for i in range(1,40):\n",
        "\n",
        "    knn = KNeighborsClassifier(n_neighbors=i)\n",
        "    knn.fit(x_train,y_train)\n",
        "    pred_i = knn.predict(x_test)\n",
        "    error_rate.append(np.mean(pred_i != y_test))\n",
        "\n",
        "plt.figure(figsize=(10,6))\n",
        "plt.plot(range(1,40),error_rate,color='blue', linestyle='dashed', marker='o',\n",
        "        markerfacecolor='red', markersize=10)\n",
        "plt.title('Error Rate vs. K Value')\n",
        "plt.xlabel('K')\n",
        "plt.ylabel('Error Rate')"
      ]
    },
    {
      "cell_type": "markdown",
      "metadata": {
        "id": "oQT6u16a3WSY"
      },
      "source": [
        "choosing k = 35"
      ]
    },
    {
      "cell_type": "code",
      "execution_count": 36,
      "metadata": {
        "colab": {
          "base_uri": "https://localhost:8080/",
          "height": 657
        },
        "id": "midpJZtd43ZX",
        "outputId": "d7c2136a-6d43-4bd5-f4a8-919d255caeb1"
      },
      "outputs": [
        {
          "name": "stdout",
          "output_type": "stream",
          "text": [
            "WITH K=35\n",
            "\n",
            "\n",
            "              precision    recall  f1-score   support\n",
            "\n",
            "           0       0.83      0.88      0.85       104\n",
            "           1       0.71      0.64      0.67        50\n",
            "\n",
            "    accuracy                           0.80       154\n",
            "   macro avg       0.77      0.76      0.76       154\n",
            "weighted avg       0.79      0.80      0.80       154\n",
            "\n"
          ]
        },
        {
          "data": {
            "image/png": "[encoded data removed]",
            "text/plain": [
              "<Figure size 640x480 with 2 Axes>"
            ]
          },
          "metadata": {},
          "output_type": "display_data"
        }
      ],
      "source": [
        "from sklearn.metrics import classification_report,confusion_matrix, ConfusionMatrixDisplay\n",
        "knn = KNeighborsClassifier(n_neighbors=35, weights = 'uniform')\n",
        "\n",
        "knn.fit(x_train,y_train)\n",
        "pred = knn.predict(x_test)\n",
        "y_pred_proba = knn.predict_proba(x_test)[:, 1]\n",
        "print('WITH K=35')\n",
        "print('\\n')\n",
        "print(classification_report(y_test,pred))\n",
        "cm = confusion_matrix(y_test,pred)\n",
        "disp = ConfusionMatrixDisplay(confusion_matrix=cm)\n",
        "#confusion matrix\n",
        "disp.plot()\n",
        "plt.show()"
      ]
    },
    {
      "cell_type": "markdown",
      "metadata": {
        "id": "EY4eqYIV5Dkt"
      },
      "source": [
        "accuracy = 83.\n",
        "therefore knn is better than SVM. But still the amount of false negatives is too much, and we have to reduce that."
      ]
    },
    {
      "cell_type": "markdown",
      "metadata": {
        "id": "O3VH5Iod6EC9"
      },
      "source": [
        "to ensure better handling of false positives and false negatives, we try lowering the threshold line"
      ]
    },
    {
      "cell_type": "code",
      "execution_count": 37,
      "metadata": {
        "colab": {
          "base_uri": "https://localhost:8080/",
          "height": 472
        },
        "id": "UD0lmgbkf3o-",
        "outputId": "9e28e08a-fe8e-4a18-9dc3-7776c21a70d9"
      },
      "outputs": [
        {
          "data": {
            "image/png": "[encoded data removed]",
            "text/plain": [
              "<Figure size 640x480 with 1 Axes>"
            ]
          },
          "metadata": {},
          "output_type": "display_data"
        }
      ],
      "source": [
        "#\n",
        "from sklearn.metrics import roc_curve, auc\n",
        "# Calculate ROC curve\n",
        "fpr, tpr, thresholds = roc_curve(y_test, y_pred_proba)\n",
        "roc_auc = auc(fpr, tpr)\n",
        "# Plot the ROC curve\n",
        "plt.figure()\n",
        "plt.plot(fpr, tpr, label='ROC curve (area = %0.2f)' % roc_auc)\n",
        "plt.plot([0, 1], [0, 1], 'k--', label='No Skill')\n",
        "plt.xlim([0.0, 1.0])\n",
        "plt.ylim([0.0, 1.05])\n",
        "plt.xlabel('False Positive Rate')\n",
        "plt.ylabel('True Positive Rate')\n",
        "plt.title('ROC Curve for diabetes')\n",
        "plt.legend()\n",
        "plt.show()"
      ]
    },
    {
      "cell_type": "markdown",
      "metadata": {
        "id": "-bNhj5t8iUXq"
      },
      "source": [
        "from this graph, we will define threshold line somewhere around 0.3 - 0.4"
      ]
    },
    {
      "cell_type": "code",
      "execution_count": 38,
      "metadata": {
        "colab": {
          "base_uri": "https://localhost:8080/",
          "height": 611
        },
        "id": "AM1SUsHSitx5",
        "outputId": "d0e96c84-6b49-4f3a-9d9a-84c48f92e107"
      },
      "outputs": [
        {
          "name": "stdout",
          "output_type": "stream",
          "text": [
            "              precision    recall  f1-score   support\n",
            "\n",
            "           0       0.89      0.71      0.79       104\n",
            "           1       0.58      0.82      0.68        50\n",
            "\n",
            "    accuracy                           0.75       154\n",
            "   macro avg       0.73      0.77      0.73       154\n",
            "weighted avg       0.79      0.75      0.75       154\n",
            "\n"
          ]
        },
        {
          "data": {
            "image/png": "[encoded data removed]",
            "text/plain": [
              "<Figure size 640x480 with 2 Axes>"
            ]
          },
          "metadata": {},
          "output_type": "display_data"
        }
      ],
      "source": [
        "y_pred = (knn.predict_proba(x_test)[:,1] >= 0.32).astype(bool)\n",
        "print(classification_report(y_test,y_pred))\n",
        "cm = confusion_matrix(y_test,y_pred)\n",
        "disp = ConfusionMatrixDisplay(confusion_matrix=cm)\n",
        "#confusion matrix\n",
        "disp.plot()\n",
        "plt.show()"
      ]
    },
    {
      "cell_type": "markdown",
      "metadata": {
        "id": "3jPkKWdYknLZ"
      },
      "source": [
        "successfully minimized false negatives in prediction.\n"
      ]
    },
    {
      "cell_type": "markdown",
      "metadata": {
        "id": "5Qd2TuaV9y6c"
      },
      "source": [
        "##Random Forest"
      ]
    },
    {
      "cell_type": "code",
      "execution_count": 39,
      "metadata": {
        "colab": {
          "base_uri": "https://localhost:8080/",
          "height": 605
        },
        "id": "1yjMIH9a9_3x",
        "outputId": "fac5b23b-a065-4d35-fe83-51d1b5554045"
      },
      "outputs": [
        {
          "name": "stdout",
          "output_type": "stream",
          "text": [
            "              precision    recall  f1-score   support\n",
            "\n",
            "           0       0.92      0.90      0.91       104\n",
            "           1       0.81      0.84      0.82        50\n",
            "\n",
            "    accuracy                           0.88       154\n",
            "   macro avg       0.86      0.87      0.87       154\n",
            "weighted avg       0.88      0.88      0.88       154\n",
            "\n"
          ]
        },
        {
          "data": {
            "image/png": "[encoded data removed]",
            "text/plain": [
              "<Figure size 640x480 with 2 Axes>"
            ]
          },
          "metadata": {},
          "output_type": "display_data"
        }
      ],
      "source": [
        "from sklearn.ensemble import RandomForestClassifier\n",
        "rfc = RandomForestClassifier(n_estimators=100)\n",
        "rfc.fit(x_train,y_train)\n",
        "y_pred = rfc.predict(x_test)\n",
        "print(classification_report(y_test,y_pred))\n",
        "cm = confusion_matrix(y_test,y_pred)\n",
        "disp = ConfusionMatrixDisplay(confusion_matrix=cm)\n",
        "#confusion matrix\n",
        "disp.plot()\n",
        "plt.show()"
      ]
    },
    {
      "cell_type": "code",
      "execution_count": 40,
      "metadata": {
        "colab": {
          "base_uri": "https://localhost:8080/",
          "height": 472
        },
        "id": "dQt7odmQAXQp",
        "outputId": "6ce26dc6-55be-44ac-f1a8-6318b8664e1e"
      },
      "outputs": [
        {
          "data": {
            "image/png": "[encoded data removed]",
            "text/plain": [
              "<Figure size 640x480 with 1 Axes>"
            ]
          },
          "metadata": {},
          "output_type": "display_data"
        }
      ],
      "source": [
        "from sklearn.metrics import roc_curve, auc\n",
        "# Calculate ROC curve\n",
        "fpr, tpr, thresholds = roc_curve(y_test, y_pred_proba)\n",
        "roc_auc = auc(fpr, tpr)\n",
        "# Plot the ROC curve\n",
        "plt.figure()\n",
        "plt.plot(fpr, tpr, label='ROC curve (area = %0.2f)' % roc_auc)\n",
        "plt.plot([0, 1], [0, 1], 'k--', label='No Skill')\n",
        "plt.xlim([0.0, 1.0])\n",
        "plt.ylim([0.0, 1.05])\n",
        "plt.xlabel('False Positive Rate')\n",
        "plt.ylabel('True Positive Rate')\n",
        "plt.title('ROC Curve for diabetes')\n",
        "plt.legend()\n",
        "plt.show()"
      ]
    },
    {
      "cell_type": "markdown",
      "metadata": {
        "id": "x1ZumJiHHHBg"
      },
      "source": [
        "from above curve, we select thresh hold value from somewhere around 0.3-0.4"
      ]
    },
    {
      "cell_type": "code",
      "execution_count": 41,
      "metadata": {
        "colab": {
          "base_uri": "https://localhost:8080/",
          "height": 605
        },
        "id": "zS2Fx5tJAhxN",
        "outputId": "4747de89-bd1d-4752-e4a3-010c0def7af5"
      },
      "outputs": [
        {
          "name": "stdout",
          "output_type": "stream",
          "text": [
            "              precision    recall  f1-score   support\n",
            "\n",
            "           0       0.94      0.87      0.90       104\n",
            "           1       0.76      0.88      0.81        50\n",
            "\n",
            "    accuracy                           0.87       154\n",
            "   macro avg       0.85      0.87      0.86       154\n",
            "weighted avg       0.88      0.87      0.87       154\n",
            "\n"
          ]
        },
        {
          "data": {
            "image/png": "[encoded data removed]",
            "text/plain": [
              "<Figure size 640x480 with 2 Axes>"
            ]
          },
          "metadata": {},
          "output_type": "display_data"
        }
      ],
      "source": [
        "y_pred = (rfc.predict_proba(x_test)[:,1] >= 0.37).astype(bool)\n",
        "print(classification_report(y_test,y_pred))\n",
        "cm = confusion_matrix(y_test,y_pred)\n",
        "disp = ConfusionMatrixDisplay(confusion_matrix=cm)\n",
        "#confusion matrix\n",
        "disp.plot()\n",
        "plt.show()"
      ]
    },
    {
      "cell_type": "markdown",
      "metadata": {
        "id": "HjGlV9ucpaKm"
      },
      "source": [
        "#making test report"
      ]
    },
    {
      "cell_type": "code",
      "execution_count": 42,
      "metadata": {
        "id": "WFZ897z6HoQO"
      },
      "outputs": [],
      "source": [
        "y_pred = pd.Series(y_pred, index=x_test.index, name='ypred')\n",
        "dfnew = pd.concat([x_test, y_test.rename('ytest'), y_pred], axis=1)\n",
        "dfnew.reset_index(drop=True, inplace = True)\n",
        "dfnew.head()\n",
        "dfnew.to_csv('diabetes classification report.csv', header=True, index = True)"
      ]
    }
  ],
  "metadata": {
    "colab": {
      "collapsed_sections": [
        "dwryeXVbndrn"
      ],
      "provenance": []
    },
    "kernelspec": {
      "display_name": "Python (SPI Project)",
      "language": "python",
      "name": "spi-env"
    },
    "language_info": {
      "codemirror_mode": {
        "name": "ipython",
        "version": 3
      },
      "file_extension": ".py",
      "mimetype": "text/x-python",
      "name": "python",
      "nbconvert_exporter": "python",
      "pygments_lexer": "ipython3",
      "version": "3.10.8"
    }
  },
  "nbformat": 4,
  "nbformat_minor": 0
}
